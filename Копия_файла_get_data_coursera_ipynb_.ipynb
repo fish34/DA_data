{
  "nbformat": 4,
  "nbformat_minor": 0,
  "metadata": {
    "kernelspec": {
      "display_name": "Python 3",
      "language": "python",
      "name": "python3"
    },
    "language_info": {
      "codemirror_mode": {
        "name": "ipython",
        "version": 3
      },
      "file_extension": ".py",
      "mimetype": "text/x-python",
      "name": "python",
      "nbconvert_exporter": "python",
      "pygments_lexer": "ipython3",
      "version": "3.6.8"
    },
    "latex_envs": {
      "LaTeX_envs_menu_present": true,
      "autoclose": false,
      "autocomplete": true,
      "bibliofile": "biblio.bib",
      "cite_by": "apalike",
      "current_citInitial": 1,
      "eqLabelWithNumbers": true,
      "eqNumInitial": 1,
      "hotkeys": {
        "equation": "Ctrl-E",
        "itemize": "Ctrl-I"
      },
      "labels_anchors": false,
      "latex_user_defs": false,
      "report_style_numbering": false,
      "user_envs_cfg": false
    },
    "toc": {
      "base_numbering": 1,
      "nav_menu": {},
      "number_sections": true,
      "sideBar": true,
      "skip_h1_title": false,
      "title_cell": "Table of Contents",
      "title_sidebar": "Contents",
      "toc_cell": true,
      "toc_position": {
        "height": "calc(100% - 180px)",
        "left": "10px",
        "top": "150px",
        "width": "304.46px"
      },
      "toc_section_display": true,
      "toc_window_display": true
    },
    "colab": {
      "name": "Копия файла -get_data_coursera.ipynb-",
      "provenance": []
    }
  },
  "cells": [
    {
      "cell_type": "code",
      "metadata": {
        "ExecuteTime": {
          "end_time": "2019-11-19T19:01:07.727497Z",
          "start_time": "2019-11-19T19:01:04.603655Z"
        },
        "id": "xwdYgm1SCdfa",
        "colab_type": "code",
        "colab": {}
      },
      "source": [
        "import numpy as np\n",
        "import pandas as pd\n",
        "from bs4 import BeautifulSoup\n",
        "import requests"
      ],
      "execution_count": 0,
      "outputs": []
    },
    {
      "cell_type": "markdown",
      "metadata": {
        "id": "kBMN4uT1Cdfd",
        "colab_type": "text"
      },
      "source": [
        "# Получаем бесплатные прокси"
      ]
    },
    {
      "cell_type": "code",
      "metadata": {
        "ExecuteTime": {
          "end_time": "2019-11-19T19:01:12.477328Z",
          "start_time": "2019-11-19T19:01:07.728499Z"
        },
        "id": "dFT1tq5rCdfd",
        "colab_type": "code",
        "colab": {}
      },
      "source": [
        "def get_proxy():\n",
        "    proxy_arr = []\n",
        "    for i in range(1, 6):\n",
        "        r = requests.get(f'http://foxtools.ru/Proxy?page={i}')\n",
        "        soup = BeautifulSoup(r.text)\n",
        "#         print(soup.find('table', id='theProxyList').find('tbody').find_all('tr')[0].find_all('td')[1].text)\n",
        "#         print(soup.find('table', id='theProxyList').find('tbody').find_all('tr')[0].find_all('td')[0].text)\n",
        "        \n",
        "        try:\n",
        "            line = soup.find('table', id='theProxyList').find('tbody').find_all('tr')\n",
        "            for tr in line:\n",
        "                td = tr.find_all('td')\n",
        "                ip = td[1].text\n",
        "                port = td[2].text\n",
        "                proxy_arr.append([ip, port])\n",
        "        except:\n",
        "            pass\n",
        "            \n",
        "#     print(proxy_arr)\n",
        "    return proxy_arr\n",
        "\n",
        "def get_another_proxy():\n",
        "    url = 'https://free-proxy-list.net/'\n",
        "    response = requests.get(url)\n",
        "    soup = BeautifulSoup(response.text)\n",
        "    proxies = []\n",
        "    for proxy in soup.find_all('tr'):\n",
        "        try:\n",
        "            proxies.append(\n",
        "                [proxy.find_all('td')[0].text,\n",
        "                 proxy.find_all('td')[1].text])\n",
        "        except:\n",
        "            pass\n",
        "    proxies = proxies[:-29]\n",
        "#     print(proxies)\n",
        "    return proxies\n",
        "\n",
        "\n",
        "proxies = get_proxy() + get_another_proxy()\n"
      ],
      "execution_count": 0,
      "outputs": []
    },
    {
      "cell_type": "code",
      "metadata": {
        "ExecuteTime": {
          "end_time": "2019-11-19T19:01:12.495344Z",
          "start_time": "2019-11-19T19:01:12.478329Z"
        },
        "id": "zvR05QRxCdff",
        "colab_type": "code",
        "outputId": "690850ef-96a5-403b-9c4f-7d5326a8c0ea",
        "colab": {
          "base_uri": "https://localhost:8080/",
          "height": 1000
        }
      },
      "source": [
        "proxies"
      ],
      "execution_count": 4,
      "outputs": [
        {
          "output_type": "execute_result",
          "data": {
            "text/plain": [
              "[['37.152.174.229', '32231'],\n",
              " ['170.210.236.1', '53113'],\n",
              " ['190.186.59.22', '52335'],\n",
              " ['46.24.85.74', '40583'],\n",
              " ['45.7.238.250', '55624'],\n",
              " ['103.241.227.110', '6666'],\n",
              " ['168.194.12.250', '8080'],\n",
              " ['36.66.235.147', '57550'],\n",
              " ['80.73.87.198', '59175'],\n",
              " ['103.224.5.5', '54143'],\n",
              " ['117.102.81.5', '53281'],\n",
              " ['78.60.203.75', '37068'],\n",
              " ['158.58.133.13', '21213'],\n",
              " ['182.52.51.10', '50304'],\n",
              " ['190.214.9.10', '41572'],\n",
              " ['196.14.52.63', '35048'],\n",
              " ['119.15.82.222', '37790'],\n",
              " ['195.191.214.118', '46406'],\n",
              " ['31.192.155.170', '53281'],\n",
              " ['192.140.91.133', '50701'],\n",
              " ['186.219.213.67', '60446'],\n",
              " ['130.0.25.46', '34964'],\n",
              " ['110.39.52.10', '36868'],\n",
              " ['58.97.72.83', '8080'],\n",
              " ['103.21.160.116', '35101'],\n",
              " ['80.106.247.145', '53410'],\n",
              " ['186.225.63.134', '38459'],\n",
              " ['154.126.211.169', '41014'],\n",
              " ['95.78.174.219', '60473'],\n",
              " ['212.98.143.141', '8082'],\n",
              " ['185.242.168.118', '8080'],\n",
              " ['193.233.155.237', '60875'],\n",
              " ['185.26.219.34', '31101'],\n",
              " ['101.255.120.249', '53899'],\n",
              " ['89.189.174.121', '52636'],\n",
              " ['83.174.203.222', '56318'],\n",
              " ['119.18.147.211', '38340'],\n",
              " ['103.56.207.233', '8080'],\n",
              " ['125.209.82.78', '35087'],\n",
              " ['185.255.46.100', '30678'],\n",
              " ['192.157.22.80', '34235'],\n",
              " ['62.122.18.7', '49693'],\n",
              " ['202.138.236.35', '49324'],\n",
              " ['36.91.44.243', '37927'],\n",
              " ['175.41.44.36', '52581'],\n",
              " ['212.142.226.229', '51973'],\n",
              " ['175.41.44.43', '52581'],\n",
              " ['128.0.179.234', '41258'],\n",
              " ['36.67.149.171', '53647'],\n",
              " ['188.92.190.227', '3128'],\n",
              " ['14.102.69.170', '49128'],\n",
              " ['158.255.57.174', '51172'],\n",
              " ['141.101.236.49', '61853'],\n",
              " ['36.89.189.11', '30132'],\n",
              " ['103.21.93.1', '61317'],\n",
              " ['43.246.140.4', '43091'],\n",
              " ['160.119.131.114', '34453'],\n",
              " ['185.44.229.227', '34930'],\n",
              " ['202.75.97.82', '47009'],\n",
              " ['13.81.6.165', '80'],\n",
              " ['212.237.124.15', '33153'],\n",
              " ['14.162.146.128', '40080'],\n",
              " ['103.76.200.41', '23500'],\n",
              " ['117.242.147.89', '60488'],\n",
              " ['200.94.140.50', '30926'],\n",
              " ['201.75.80.80', '53281'],\n",
              " ['8.209.93.119', '3128'],\n",
              " ['150.129.151.42', '6666'],\n",
              " ['41.85.189.66', '57797'],\n",
              " ['128.199.252.41', '3128'],\n",
              " ['200.212.2.70', '45612'],\n",
              " ['158.58.133.187', '34128'],\n",
              " ['185.54.237.114', '3128'],\n",
              " ['102.164.248.47', '40354'],\n",
              " ['194.58.182.73', '41258'],\n",
              " ['93.88.216.51', '59027'],\n",
              " ['103.85.217.1', '41330'],\n",
              " ['103.88.234.248', '40614'],\n",
              " ['157.245.66.20', '3128'],\n",
              " ['5.189.133.231', '80'],\n",
              " ['186.47.82.6', '41430'],\n",
              " ['110.168.213.168', '8213'],\n",
              " ['36.91.58.89', '8080'],\n",
              " ['197.159.70.200', '8080'],\n",
              " ['186.183.220.2', '8080'],\n",
              " ['203.174.13.158', '8082'],\n",
              " ['43.250.127.98', '9001'],\n",
              " ['88.199.164.140', '8080'],\n",
              " ['202.51.117.97', '8080'],\n",
              " ['37.193.184.95', '8080'],\n",
              " ['188.227.195.68', '8080'],\n",
              " ['103.252.117.225', '8080'],\n",
              " ['103.209.89.66', '8080'],\n",
              " ['94.70.160.38', '8080'],\n",
              " ['202.65.171.67', '8080'],\n",
              " ['190.242.119.68', '8080'],\n",
              " ['202.59.138.18', '8080'],\n",
              " ['177.105.245.250', '20183'],\n",
              " ['150.107.109.58', '8080'],\n",
              " ['61.220.204.25', '3128'],\n",
              " ['118.175.207.84', '8080'],\n",
              " ['185.14.248.98', '8080'],\n",
              " ['117.54.224.115', '3128'],\n",
              " ['103.131.16.122', '8080'],\n",
              " ['180.254.75.202', '8080'],\n",
              " ['179.96.18.113', '8080'],\n",
              " ['103.209.89.70', '8080'],\n",
              " ['45.168.76.33', '8083'],\n",
              " ['210.5.187.58', '8080'],\n",
              " ['67.198.131.10', '9898'],\n",
              " ['85.237.246.240', '8080'],\n",
              " ['42.115.27.192', '8080'],\n",
              " ['36.67.198.35', '3128'],\n",
              " ['101.109.30.127', '8080'],\n",
              " ['103.216.169.129', '8080'],\n",
              " ['36.92.68.145', '8080'],\n",
              " ['182.253.31.149', '8080'],\n",
              " ['51.38.95.14', '8080'],\n",
              " ['212.72.142.214', '8080'],\n",
              " ['89.250.17.209', '8080'],\n",
              " ['179.108.184.131', '53281'],\n",
              " ['1.179.131.69', '8080'],\n",
              " ['85.236.172.188', '8080'],\n",
              " ['102.140.192.54', '8080'],\n",
              " ['202.154.186.106', '8080'],\n",
              " ['191.102.106.130', '999'],\n",
              " ['103.134.213.53', '8080'],\n",
              " ['177.87.10.186', '8080'],\n",
              " ['180.250.194.19', '8080'],\n",
              " ['62.80.182.42', '53281'],\n",
              " ['85.143.254.20', '8080'],\n",
              " ['36.255.85.227', '84'],\n",
              " ['185.194.25.77', '8080'],\n",
              " ['77.37.141.245', '8080'],\n",
              " ['110.164.101.129', '8080'],\n",
              " ['77.247.89.253', '8080'],\n",
              " ['103.80.80.202', '8080'],\n",
              " ['103.211.76.5', '8080'],\n",
              " ['186.225.47.249', '8080'],\n",
              " ['116.254.103.49', '80'],\n",
              " ['41.78.26.155', '8080'],\n",
              " ['45.117.74.97', '8060'],\n",
              " ['36.90.123.5', '8181'],\n",
              " ['85.62.10.85', '8080'],\n",
              " ['185.47.223.53', '8080'],\n",
              " ['87.244.181.136', '8080'],\n",
              " ['123.108.206.1', '82'],\n",
              " ['103.23.134.22', '8080'],\n",
              " ['185.135.196.22', '8080'],\n",
              " ['203.143.28.25', '8080'],\n",
              " ['45.172.108.45', '9991'],\n",
              " ['154.126.79.14', '8080'],\n",
              " ['201.87.154.127', '8080'],\n",
              " ['91.225.190.77', '53281'],\n",
              " ['89.174.219.74', '8080'],\n",
              " ['118.99.96.59', '8080'],\n",
              " ['36.92.35.73', '3128'],\n",
              " ['103.224.48.113', '8080'],\n",
              " ['103.87.236.185', '8080'],\n",
              " ['179.1.84.42', '999'],\n",
              " ['84.53.243.199', '8080'],\n",
              " ['103.81.139.121', '84'],\n",
              " ['94.140.208.226', '8080'],\n",
              " ['200.69.67.138', '999'],\n",
              " ['83.171.125.97', '80'],\n",
              " ['188.170.62.89', '8080'],\n",
              " ['139.0.157.24', '8080'],\n",
              " ['190.103.82.252', '8082'],\n",
              " ['103.102.67.33', '63141'],\n",
              " ['202.191.127.170', '8080'],\n",
              " ['102.68.17.96', '8080'],\n",
              " ['78.186.194.45', '8080'],\n",
              " ['101.51.137.101', '80'],\n",
              " ['36.92.90.28', '8080'],\n",
              " ['1.179.144.181', '8080'],\n",
              " ['183.89.45.10', '8080'],\n",
              " ['212.109.195.35', '3128'],\n",
              " ['114.129.17.51', '9191'],\n",
              " ['213.234.238.52', '8080'],\n",
              " ['111.90.177.133', '8080'],\n",
              " ['103.87.236.17', '8080'],\n",
              " ['212.156.55.34', '8080'],\n",
              " ['202.62.88.185', '83'],\n",
              " ['91.145.198.184', '8080'],\n",
              " ['14.102.152.158', '8080'],\n",
              " ['201.72.97.40', '8080'],\n",
              " ['103.36.100.248', '8000'],\n",
              " ['202.57.19.6', '8080'],\n",
              " ['41.65.181.133', '8080'],\n",
              " ['103.81.77.16', '83'],\n",
              " ['185.39.199.137', '8080'],\n",
              " ['103.87.236.145', '8080'],\n",
              " ['88.26.174.139', '8080'],\n",
              " ['181.191.85.114', '8080'],\n",
              " ['94.23.196.68', '3128'],\n",
              " ['139.5.73.11', '8080'],\n",
              " ['91.191.3.114', '53281'],\n",
              " ['45.250.226.56', '8080'],\n",
              " ['46.8.119.123', '8080'],\n",
              " ['84.22.48.81', '8080'],\n",
              " ['182.52.31.58', '8080'],\n",
              " ['27.50.21.1', '3128'],\n",
              " ['103.228.119.114', '8080'],\n",
              " ['36.69.7.158', '8080'],\n",
              " ['213.6.65.30', '8080'],\n",
              " ['212.22.72.254', '8080'],\n",
              " ['79.106.97.77', '8080'],\n",
              " ['185.120.36.150', '8080'],\n",
              " ['195.228.210.244', '8080'],\n",
              " ['118.97.36.21', '8080'],\n",
              " ['186.125.218.130', '999'],\n",
              " ['189.11.248.162', '8080'],\n",
              " ['190.108.252.26', '8080'],\n",
              " ['177.69.83.29', '8080'],\n",
              " ['45.250.226.8', '8080'],\n",
              " ['190.103.81.253', '8082'],\n",
              " ['181.13.198.51', '8080'],\n",
              " ['36.78.221.127', '8080'],\n",
              " ['176.197.145.162', '8080'],\n",
              " ['176.99.75.39', '8080'],\n",
              " ['118.174.232.181', '8080'],\n",
              " ['178.188.67.190', '8080'],\n",
              " ['101.255.119.49', '8080'],\n",
              " ['177.84.63.74', '3128'],\n",
              " ['186.46.184.182', '8080'],\n",
              " ['138.94.91.2', '8080'],\n",
              " ['202.72.193.5', '8080'],\n",
              " ['36.92.93.253', '8080'],\n",
              " ['152.204.130.62', '8080'],\n",
              " ['114.7.205.18', '8080'],\n",
              " ['88.247.153.104', '8080'],\n",
              " ['36.67.204.14', '8080'],\n",
              " ['69.10.52.33', '8080'],\n",
              " ['177.221.95.118', '8080'],\n",
              " ['177.105.242.139', '20183'],\n",
              " ['36.89.229.97', '35098'],\n",
              " ['188.226.141.127', '3128'],\n",
              " ['139.59.64.9', '8080'],\n",
              " ['1.179.206.161', '59033'],\n",
              " ['139.59.53.107', '3128'],\n",
              " ['181.143.79.154', '48749'],\n",
              " ['8.209.93.201', '3128'],\n",
              " ['88.198.24.108', '8080'],\n",
              " ['138.68.165.154', '3128'],\n",
              " ['188.166.83.34', '3128'],\n",
              " ['139.59.53.105', '3128'],\n",
              " ['125.25.45.92', '8080'],\n",
              " ['139.59.53.106', '8080'],\n",
              " ['189.57.62.146', '80'],\n",
              " ['139.59.99.63', '3128'],\n",
              " ['42.112.34.34', '3434'],\n",
              " ['159.203.91.6', '8080'],\n",
              " ['47.75.90.57', '80'],\n",
              " ['138.197.204.55', '8080'],\n",
              " ['148.251.200.196', '1080'],\n",
              " ['139.59.61.229', '8080'],\n",
              " ['139.59.169.246', '3128'],\n",
              " ['131.196.143.63', '33729'],\n",
              " ['138.68.107.34', '80'],\n",
              " ['88.118.131.30', '34850'],\n",
              " ['203.113.119.226', '38989'],\n",
              " ['89.140.169.24', '43892'],\n",
              " ['179.189.225.58', '41881'],\n",
              " ['181.112.40.114', '56243'],\n",
              " ['186.167.33.244', '42550'],\n",
              " ['182.52.51.53', '60441'],\n",
              " ['116.212.129.58', '38075'],\n",
              " ['103.9.188.135', '46648'],\n",
              " ['177.125.144.10', '48694'],\n",
              " ['103.43.43.103', '51685'],\n",
              " ['45.71.108.18', '46114'],\n",
              " ['123.16.188.2', '40585'],\n",
              " ['45.115.113.114', '46216'],\n",
              " ['181.196.254.202', '53281'],\n",
              " ['148.103.9.41', '37584'],\n",
              " ['109.70.189.56', '48774'],\n",
              " ['200.68.13.26', '49585'],\n",
              " ['151.237.126.34', '33695'],\n",
              " ['195.158.109.248', '59646'],\n",
              " ['201.184.255.162', '59486'],\n",
              " ['36.66.191.194', '42945'],\n",
              " ['221.120.210.211', '39617'],\n",
              " ['36.66.242.148', '43936'],\n",
              " ['119.235.19.42', '38546'],\n",
              " ['122.2.37.38', '34817'],\n",
              " ['74.113.173.78', '47208'],\n",
              " ['84.19.38.158', '51885'],\n",
              " ['187.73.68.14', '53281'],\n",
              " ['91.222.27.31', '52857'],\n",
              " ['45.226.48.113', '60143'],\n",
              " ['119.82.253.210', '53119'],\n",
              " ['62.182.109.206', '41258'],\n",
              " ['37.230.163.64', '37836'],\n",
              " ['202.62.67.209', '53281'],\n",
              " ['212.154.58.112', '35116'],\n",
              " ['62.150.72.99', '8080'],\n",
              " ['118.174.232.60', '34772'],\n",
              " ['182.23.2.101', '49833'],\n",
              " ['158.255.23.146', '35168'],\n",
              " ['42.112.34.31', '3431']]"
            ]
          },
          "metadata": {
            "tags": []
          },
          "execution_count": 4
        }
      ]
    },
    {
      "cell_type": "markdown",
      "metadata": {
        "id": "qsCFHzXyCdfp",
        "colab_type": "text"
      },
      "source": [
        "\n",
        "# Ищем кол-во страниц курсеры"
      ]
    },
    {
      "cell_type": "code",
      "metadata": {
        "ExecuteTime": {
          "end_time": "2019-11-19T19:01:22.557169Z",
          "start_time": "2019-11-19T19:01:21.955118Z"
        },
        "id": "jh7iR8s1Cdfp",
        "colab_type": "code",
        "colab": {}
      },
      "source": [
        "searched_phrase = 'big data'\n",
        "searched_phrase = searched_phrase.replace(' ', '%20')\n",
        "\n",
        "url = f'https://www.coursera.org/search?query={searched_phrase}&'\n",
        "\n",
        "proxy = proxies[0][0] + ':' + proxies[0][1]\n",
        "\n",
        "header = {\"User-Agent\": \"Mozilla/5.0 (Macintosh; Intel Mac OS X 10.14; rv:66.0) Gecko/20100101 Firefox/66.0\",\n",
        "          \"Accept\": \"text/html,application/xhtml+xml,application/xml;q=0.9,*/*;q=0.8\",\n",
        "          \"Accept-Language\": \"en-US,en;q=0.5\",\n",
        "          \"Accept-Encoding\": \"gzip, deflate\",\n",
        "          \"DNT\": \"1\",\n",
        "          \"Connection\": \"close\",\n",
        "          \"Upgrade-Insecure-Requests\": \"1\"}\n",
        "\n",
        "response = requests.get(url,\n",
        "                        headers=header,\n",
        "                        proxies={'http': proxy})"
      ],
      "execution_count": 0,
      "outputs": []
    },
    {
      "cell_type": "code",
      "metadata": {
        "ExecuteTime": {
          "end_time": "2019-11-19T19:01:22.594203Z",
          "start_time": "2019-11-19T19:01:22.558171Z"
        },
        "id": "G6vnQOI3Cdfr",
        "colab_type": "code",
        "outputId": "a59fe157-b8a4-4516-8404-dd55d3155479",
        "colab": {
          "base_uri": "https://localhost:8080/",
          "height": 34
        }
      },
      "source": [
        "soup = BeautifulSoup(response.text)\n",
        "print(soup.find_all('button', {'id':'pagination_number_box_button'})[-1].text)"
      ],
      "execution_count": 6,
      "outputs": [
        {
          "output_type": "stream",
          "text": [
            "23\n"
          ],
          "name": "stdout"
        }
      ]
    },
    {
      "cell_type": "markdown",
      "metadata": {
        "id": "7XmifUcyCdft",
        "colab_type": "text"
      },
      "source": [
        "# Находим ссылки на курсы"
      ]
    },
    {
      "cell_type": "code",
      "metadata": {
        "ExecuteTime": {
          "end_time": "2019-11-19T19:01:23.065136Z",
          "start_time": "2019-11-19T19:01:23.006578Z"
        },
        "id": "atBZwiCMCdft",
        "colab_type": "code",
        "outputId": "fcee221a-2705-4b36-bb1a-fded5375991e",
        "colab": {
          "base_uri": "https://localhost:8080/",
          "height": 185
        }
      },
      "source": [
        "['https://www.coursera.org' + \n",
        "     soup.find_all('a', {'data-click-key':'search.search.click.search_card'})[i]['href'] for i in range(10)]"
      ],
      "execution_count": 7,
      "outputs": [
        {
          "output_type": "execute_result",
          "data": {
            "text/plain": [
              "['https://www.coursera.org/specializations/big-data',\n",
              " 'https://www.coursera.org/specializations/big-data-introduccion',\n",
              " 'https://www.coursera.org/specializations/gcp-data-machine-learning',\n",
              " 'https://www.coursera.org/specializations/big-data-engineering',\n",
              " 'https://www.coursera.org/learn/big-data-introduction',\n",
              " 'https://www.coursera.org/specializations/cloudera-big-data-analysis-sql',\n",
              " 'https://www.coursera.org/specializations/applied-data-science',\n",
              " 'https://www.coursera.org/learn/mineria-de-datos-introduccion',\n",
              " 'https://www.coursera.org/professional-certificates/gcp-data-engineering',\n",
              " 'https://www.coursera.org/learn/gcp-big-data-ml-fundamentals']"
            ]
          },
          "metadata": {
            "tags": []
          },
          "execution_count": 7
        }
      ]
    },
    {
      "cell_type": "markdown",
      "metadata": {
        "id": "L6cA4-9WCdfv",
        "colab_type": "text"
      },
      "source": [
        "# Получаем ссылки на все курсы\n"
      ]
    },
    {
      "cell_type": "code",
      "metadata": {
        "id": "y6z3Y2tMCvEd",
        "colab_type": "code",
        "colab": {}
      },
      "source": [
        "it_directions = ['big data',\n",
        "                'biotechnologies',\n",
        "                'cloud computing',\n",
        "                'computer games',\n",
        "                'cybersecurity',\n",
        "                'digital design',\n",
        "                'digital marketing',\n",
        "                'distributed registries',\n",
        "                'internet of things',\n",
        "                'it products',\n",
        "                'machine learning',\n",
        "                'mobile application',\n",
        "                'quantum technology',\n",
        "                'radio engineering',\n",
        "                'robotics',\n",
        "                'smart manufacturing',\n",
        "                'system administration']\n"
      ],
      "execution_count": 0,
      "outputs": []
    },
    {
      "cell_type": "code",
      "metadata": {
        "ExecuteTime": {
          "end_time": "2019-11-19T19:04:04.125207Z",
          "start_time": "2019-11-19T19:03:02.298022Z"
        },
        "code_folding": [],
        "scrolled": true,
        "id": "JFDZeVDICdfv",
        "colab_type": "code",
        "outputId": "eadbb303-9d79-4270-ee2a-eb6dff1b765c",
        "colab": {
          "base_uri": "https://localhost:8080/",
          "height": 588
        }
      },
      "source": [
        "import time\n",
        "from tqdm import tqdm\n",
        "import requests\n",
        "from itertools import cycle\n",
        "import time\n",
        "\n",
        "proxy_pool = cycle(proxies)\n",
        "result = {}\n",
        "for direction in it_directions:\n",
        "    try:\n",
        "        links = []\n",
        "        print('Обрабатываем', direction)\n",
        "\n",
        "        searched_phrase = direction.replace(' ', '%20')\n",
        "\n",
        "        url = f'https://www.coursera.org/search?query={searched_phrase}&'\n",
        "\n",
        "        proxy = proxies[0][0] + ':' + proxies[0][1]\n",
        "\n",
        "        header = {\"User-Agent\": \"Mozilla/5.0 (Macintosh; Intel Mac OS X 10.14; rv:66.0) Gecko/20100101 Firefox/66.0\",\n",
        "                  \"Accept\": \"text/html,application/xhtml+xml,application/xml;q=0.9,*/*;q=0.8\",\n",
        "                  \"Accept-Language\": \"en-US,en;q=0.5\",\n",
        "                  \"Accept-Encoding\": \"gzip, deflate\",\n",
        "                  \"DNT\": \"1\",\n",
        "                  \"Connection\": \"close\",\n",
        "                  \"Upgrade-Insecure-Requests\": \"1\"}\n",
        "\n",
        "        response = requests.get(url,\n",
        "                                headers=header,\n",
        "                                proxies={'http': proxy})\n",
        "\n",
        "        soup = BeautifulSoup(response.text)\n",
        "\n",
        "        page_amm = int(soup.find_all('button', {'id':'pagination_number_box_button'})[-1].text)\n",
        "\n",
        "        for i in tqdm(range(1, page_amm+1)):\n",
        "            proxy = next(proxy_pool)\n",
        "\n",
        "            url = f'https://www.coursera.org/search?query={searched_phrase}&indices%5Bprod_all_products_term_optimization%5D%5Bpage%5D={i}&indices%5Bprod_all_products_term_optimization%5D%5Bconfigure%5D%5BclickAnalytics%5D=true&indices%5Bprod_all_products_term_optimization%5D%5Bconfigure%5D%5BhitsPerPage%5D=10&configure%5BclickAnalytics%5D=true'\n",
        "                    #             print('_______________________________________')\n",
        "                    #             print(f\" {proxy['Страна']} | {proxy['ip']} : {proxy['Порт']} \")\n",
        "\n",
        "            response = requests.get(url,\n",
        "                                    headers=header,\n",
        "                                    proxies={'http': proxy[0]+':'+proxy[1]})\n",
        "            soup = BeautifulSoup(response.text)\n",
        "\n",
        "            content = soup.find_all('a', {'data-click-key':'search.search.click.search_card'})\n",
        "            links += ['https://www.coursera.org' + \n",
        "                        content[i]['href'] for i in range(len(content))]\n",
        "\n",
        "    #         except Exception as e:\n",
        "    #             print('error')\n",
        "        result[direction] = links\n",
        "    except:\n",
        "        pass"
      ],
      "execution_count": 9,
      "outputs": [
        {
          "output_type": "stream",
          "text": [
            "Обрабатываем big data\n"
          ],
          "name": "stdout"
        },
        {
          "output_type": "stream",
          "text": [
            "100%|██████████| 23/23 [00:16<00:00,  1.01s/it]\n"
          ],
          "name": "stderr"
        },
        {
          "output_type": "stream",
          "text": [
            "Обрабатываем biotechnologies\n"
          ],
          "name": "stdout"
        },
        {
          "output_type": "stream",
          "text": [
            "100%|██████████| 3/3 [00:02<00:00,  1.02s/it]\n"
          ],
          "name": "stderr"
        },
        {
          "output_type": "stream",
          "text": [
            "Обрабатываем cloud computing\n"
          ],
          "name": "stdout"
        },
        {
          "output_type": "stream",
          "text": [
            "100%|██████████| 24/24 [00:17<00:00,  1.29it/s]\n"
          ],
          "name": "stderr"
        },
        {
          "output_type": "stream",
          "text": [
            "Обрабатываем computer games\n"
          ],
          "name": "stdout"
        },
        {
          "output_type": "stream",
          "text": [
            "100%|██████████| 15/15 [00:08<00:00,  1.83it/s]\n"
          ],
          "name": "stderr"
        },
        {
          "output_type": "stream",
          "text": [
            "Обрабатываем cybersecurity\n"
          ],
          "name": "stdout"
        },
        {
          "output_type": "stream",
          "text": [
            "100%|██████████| 6/6 [00:03<00:00,  1.89it/s]\n"
          ],
          "name": "stderr"
        },
        {
          "output_type": "stream",
          "text": [
            "Обрабатываем digital design\n"
          ],
          "name": "stdout"
        },
        {
          "output_type": "stream",
          "text": [
            "100%|██████████| 22/22 [00:12<00:00,  1.87it/s]\n"
          ],
          "name": "stderr"
        },
        {
          "output_type": "stream",
          "text": [
            "Обрабатываем digital marketing\n"
          ],
          "name": "stdout"
        },
        {
          "output_type": "stream",
          "text": [
            "100%|██████████| 10/10 [00:04<00:00,  2.14it/s]\n"
          ],
          "name": "stderr"
        },
        {
          "output_type": "stream",
          "text": [
            "Обрабатываем distributed registries\n"
          ],
          "name": "stdout"
        },
        {
          "output_type": "stream",
          "text": [
            "100%|██████████| 1/1 [00:01<00:00,  1.05s/it]\n"
          ],
          "name": "stderr"
        },
        {
          "output_type": "stream",
          "text": [
            "Обрабатываем internet of things\n"
          ],
          "name": "stdout"
        },
        {
          "output_type": "stream",
          "text": [
            "100%|██████████| 11/11 [00:06<00:00,  1.28it/s]\n"
          ],
          "name": "stderr"
        },
        {
          "output_type": "stream",
          "text": [
            "Обрабатываем it products\n"
          ],
          "name": "stdout"
        },
        {
          "output_type": "stream",
          "text": [
            "100%|██████████| 50/50 [00:32<00:00,  1.80it/s]\n"
          ],
          "name": "stderr"
        },
        {
          "output_type": "stream",
          "text": [
            "Обрабатываем machine learning\n"
          ],
          "name": "stdout"
        },
        {
          "output_type": "stream",
          "text": [
            "100%|██████████| 32/32 [00:22<00:00,  1.66it/s]\n"
          ],
          "name": "stderr"
        },
        {
          "output_type": "stream",
          "text": [
            "Обрабатываем mobile application\n"
          ],
          "name": "stdout"
        },
        {
          "output_type": "stream",
          "text": [
            "100%|██████████| 10/10 [00:06<00:00,  1.55it/s]\n"
          ],
          "name": "stderr"
        },
        {
          "output_type": "stream",
          "text": [
            "Обрабатываем quantum technology\n"
          ],
          "name": "stdout"
        },
        {
          "output_type": "stream",
          "text": [
            "100%|██████████| 2/2 [00:00<00:00,  2.41it/s]\n"
          ],
          "name": "stderr"
        },
        {
          "output_type": "stream",
          "text": [
            "Обрабатываем radio engineering\n"
          ],
          "name": "stdout"
        },
        {
          "output_type": "stream",
          "text": [
            "100%|██████████| 4/4 [00:02<00:00,  1.75it/s]\n"
          ],
          "name": "stderr"
        },
        {
          "output_type": "stream",
          "text": [
            "Обрабатываем robotics\n"
          ],
          "name": "stdout"
        },
        {
          "output_type": "stream",
          "text": [
            "100%|██████████| 7/7 [00:03<00:00,  2.00it/s]\n"
          ],
          "name": "stderr"
        },
        {
          "output_type": "stream",
          "text": [
            "Обрабатываем smart manufacturing\n"
          ],
          "name": "stdout"
        },
        {
          "output_type": "stream",
          "text": [
            "100%|██████████| 2/2 [00:00<00:00,  1.99it/s]\n"
          ],
          "name": "stderr"
        },
        {
          "output_type": "stream",
          "text": [
            "Обрабатываем system administration\n"
          ],
          "name": "stdout"
        },
        {
          "output_type": "stream",
          "text": [
            "100%|██████████| 8/8 [00:05<00:00,  1.37it/s]\n"
          ],
          "name": "stderr"
        }
      ]
    },
    {
      "cell_type": "code",
      "metadata": {
        "ExecuteTime": {
          "end_time": "2019-11-19T19:06:04.537814Z",
          "start_time": "2019-11-19T19:06:04.533810Z"
        },
        "id": "AfVc_XaaCdfx",
        "colab_type": "code",
        "colab": {}
      },
      "source": [
        "import json \n",
        "\n",
        "with open('coursera_urls_rus.json', 'w') as json_file:\n",
        "    json.dump(result, json_file)"
      ],
      "execution_count": 0,
      "outputs": []
    },
    {
      "cell_type": "code",
      "metadata": {
        "ExecuteTime": {
          "end_time": "2019-11-19T19:06:06.593685Z",
          "start_time": "2019-11-19T19:06:06.581673Z"
        },
        "id": "y966widRCdfz",
        "colab_type": "code",
        "colab": {
          "base_uri": "https://localhost:8080/",
          "height": 550
        },
        "outputId": "1ab100e7-596b-4173-aeba-dc1f39a828f8"
      },
      "source": [
        "pd.DataFrame(list(\n",
        "    zip(list(result.keys()),\n",
        "        [len(result[list(result.keys())[i]]) for i in range(len(result))])),\n",
        "             columns=['направление', 'кол-во ссылок'])"
      ],
      "execution_count": 11,
      "outputs": [
        {
          "output_type": "execute_result",
          "data": {
            "text/html": [
              "<div>\n",
              "<style scoped>\n",
              "    .dataframe tbody tr th:only-of-type {\n",
              "        vertical-align: middle;\n",
              "    }\n",
              "\n",
              "    .dataframe tbody tr th {\n",
              "        vertical-align: top;\n",
              "    }\n",
              "\n",
              "    .dataframe thead th {\n",
              "        text-align: right;\n",
              "    }\n",
              "</style>\n",
              "<table border=\"1\" class=\"dataframe\">\n",
              "  <thead>\n",
              "    <tr style=\"text-align: right;\">\n",
              "      <th></th>\n",
              "      <th>направление</th>\n",
              "      <th>кол-во ссылок</th>\n",
              "    </tr>\n",
              "  </thead>\n",
              "  <tbody>\n",
              "    <tr>\n",
              "      <th>0</th>\n",
              "      <td>big data</td>\n",
              "      <td>226</td>\n",
              "    </tr>\n",
              "    <tr>\n",
              "      <th>1</th>\n",
              "      <td>biotechnologies</td>\n",
              "      <td>22</td>\n",
              "    </tr>\n",
              "    <tr>\n",
              "      <th>2</th>\n",
              "      <td>cloud computing</td>\n",
              "      <td>234</td>\n",
              "    </tr>\n",
              "    <tr>\n",
              "      <th>3</th>\n",
              "      <td>computer games</td>\n",
              "      <td>142</td>\n",
              "    </tr>\n",
              "    <tr>\n",
              "      <th>4</th>\n",
              "      <td>cybersecurity</td>\n",
              "      <td>58</td>\n",
              "    </tr>\n",
              "    <tr>\n",
              "      <th>5</th>\n",
              "      <td>digital design</td>\n",
              "      <td>213</td>\n",
              "    </tr>\n",
              "    <tr>\n",
              "      <th>6</th>\n",
              "      <td>digital marketing</td>\n",
              "      <td>91</td>\n",
              "    </tr>\n",
              "    <tr>\n",
              "      <th>7</th>\n",
              "      <td>distributed registries</td>\n",
              "      <td>3</td>\n",
              "    </tr>\n",
              "    <tr>\n",
              "      <th>8</th>\n",
              "      <td>internet of things</td>\n",
              "      <td>104</td>\n",
              "    </tr>\n",
              "    <tr>\n",
              "      <th>9</th>\n",
              "      <td>it products</td>\n",
              "      <td>500</td>\n",
              "    </tr>\n",
              "    <tr>\n",
              "      <th>10</th>\n",
              "      <td>machine learning</td>\n",
              "      <td>317</td>\n",
              "    </tr>\n",
              "    <tr>\n",
              "      <th>11</th>\n",
              "      <td>mobile application</td>\n",
              "      <td>99</td>\n",
              "    </tr>\n",
              "    <tr>\n",
              "      <th>12</th>\n",
              "      <td>quantum technology</td>\n",
              "      <td>13</td>\n",
              "    </tr>\n",
              "    <tr>\n",
              "      <th>13</th>\n",
              "      <td>radio engineering</td>\n",
              "      <td>36</td>\n",
              "    </tr>\n",
              "    <tr>\n",
              "      <th>14</th>\n",
              "      <td>robotics</td>\n",
              "      <td>65</td>\n",
              "    </tr>\n",
              "    <tr>\n",
              "      <th>15</th>\n",
              "      <td>smart manufacturing</td>\n",
              "      <td>15</td>\n",
              "    </tr>\n",
              "    <tr>\n",
              "      <th>16</th>\n",
              "      <td>system administration</td>\n",
              "      <td>77</td>\n",
              "    </tr>\n",
              "  </tbody>\n",
              "</table>\n",
              "</div>"
            ],
            "text/plain": [
              "               направление  кол-во ссылок\n",
              "0                 big data            226\n",
              "1          biotechnologies             22\n",
              "2          cloud computing            234\n",
              "3           computer games            142\n",
              "4            cybersecurity             58\n",
              "5           digital design            213\n",
              "6        digital marketing             91\n",
              "7   distributed registries              3\n",
              "8       internet of things            104\n",
              "9              it products            500\n",
              "10        machine learning            317\n",
              "11      mobile application             99\n",
              "12      quantum technology             13\n",
              "13       radio engineering             36\n",
              "14                robotics             65\n",
              "15     smart manufacturing             15\n",
              "16   system administration             77"
            ]
          },
          "metadata": {
            "tags": []
          },
          "execution_count": 11
        }
      ]
    },
    {
      "cell_type": "markdown",
      "metadata": {
        "id": "9xh_-A8ZCdf0",
        "colab_type": "text"
      },
      "source": [
        "# Парсим страницу по ссылке"
      ]
    },
    {
      "cell_type": "code",
      "metadata": {
        "ExecuteTime": {
          "end_time": "2019-11-19T08:32:32.259177Z",
          "start_time": "2019-11-19T08:32:31.198526Z"
        },
        "id": "cuIOQMI6Cdf1",
        "colab_type": "code",
        "colab": {}
      },
      "source": [
        "url = 'https://www.coursera.org/specializations/big-data'\n",
        "\n",
        "response = requests.get(url,\n",
        "                        headers=header,\n",
        "                        proxies={'http': proxies[0][0]+':'+proxies[0][1]})\n",
        "soup = BeautifulSoup(response.text)"
      ],
      "execution_count": 0,
      "outputs": []
    },
    {
      "cell_type": "code",
      "metadata": {
        "ExecuteTime": {
          "end_time": "2019-11-19T08:32:32.264182Z",
          "start_time": "2019-11-19T08:32:32.260179Z"
        },
        "id": "Yj7a2sofCdf2",
        "colab_type": "code",
        "colab": {
          "base_uri": "https://localhost:8080/",
          "height": 34
        },
        "outputId": "ad2573af-9b78-42bf-bb53-8a89691263c0"
      },
      "source": [
        "soup.find_all('h1')[0].text"
      ],
      "execution_count": 13,
      "outputs": [
        {
          "output_type": "execute_result",
          "data": {
            "text/plain": [
              "'Big Data Specialization'"
            ]
          },
          "metadata": {
            "tags": []
          },
          "execution_count": 13
        }
      ]
    },
    {
      "cell_type": "code",
      "metadata": {
        "ExecuteTime": {
          "end_time": "2019-11-19T08:32:32.272189Z",
          "start_time": "2019-11-19T08:32:32.265183Z"
        },
        "id": "8fvc4r_oCdf4",
        "colab_type": "code",
        "colab": {
          "base_uri": "https://localhost:8080/",
          "height": 54
        },
        "outputId": "9c34dfcc-1fcf-474a-a57a-381a128784ac"
      },
      "source": [
        "name = soup.find_all('p')[4].text\n",
        "name"
      ],
      "execution_count": 14,
      "outputs": [
        {
          "output_type": "execute_result",
          "data": {
            "text/plain": [
              "\"Every Specialization includes a hands-on project. You'll need to successfully finish the project(s) to complete the Specialization and earn your certificate. If the Specialization includes a separate course for the hands-on project, you'll need to finish each of the other courses before you can start it.\""
            ]
          },
          "metadata": {
            "tags": []
          },
          "execution_count": 14
        }
      ]
    },
    {
      "cell_type": "code",
      "metadata": {
        "ExecuteTime": {
          "end_time": "2019-11-19T08:32:32.290206Z",
          "start_time": "2019-11-19T08:32:32.273190Z"
        },
        "id": "tjxE__azCdf6",
        "colab_type": "code",
        "colab": {
          "base_uri": "https://localhost:8080/",
          "height": 54
        },
        "outputId": "9bc94e25-1d91-49a4-938b-b62039ab6329"
      },
      "source": [
        "descr = soup.find_all('div', {\"class\",\"content-inner\"})[0].text\n",
        "descr"
      ],
      "execution_count": 15,
      "outputs": [
        {
          "output_type": "execute_result",
          "data": {
            "text/plain": [
              "'Drive better business decisions with an overview of how big data is organized, analyzed, and interpreted. Apply your insights to real-world problems and questions.\\n\\n*********\\n\\nDo you need to understand big data and how it will impact your business? This Specialization is for you. You will gain an understanding of what insights big data can provide through hands-on experience with the tools and systems used by big data scientists and engineers. Previous programming experience is not required! You will be guided through the basics of using Hadoop with MapReduce, Spark, Pig and Hive. By following along with provided code, you will experience how one can perform predictive modeling and leverage graph analytics to model problems. This specialization will prepare you to ask the right questions about data, communicate effectively with data scientists, and do basic exploration of large, complex datasets. In the final Capstone Project, developed in partnership with data software company Splunk, youâ\\x80\\x99ll apply the skills you learned to do basic analyses of big data.'"
            ]
          },
          "metadata": {
            "tags": []
          },
          "execution_count": 15
        }
      ]
    },
    {
      "cell_type": "code",
      "metadata": {
        "ExecuteTime": {
          "end_time": "2019-11-19T08:32:32.304219Z",
          "start_time": "2019-11-19T08:32:32.291207Z"
        },
        "id": "6dS6neV_Cdf8",
        "colab_type": "code",
        "colab": {
          "base_uri": "https://localhost:8080/",
          "height": 54
        },
        "outputId": "e74b78d9-d35c-4f3e-bb6a-675ed6d7d8ae"
      },
      "source": [
        "plan1 = soup.find_all('div', {'class':\"content-inner\"})[1].text\n",
        "plan1"
      ],
      "execution_count": 16,
      "outputs": [
        {
          "output_type": "execute_result",
          "data": {
            "text/plain": [
              "'Interested in increasing your knowledge of the Big Data landscape?  This course is for those new to data science and interested in understanding why the Big Data Era has come to be.  It is for those who want to become conversant with the terminology and the core concepts behind big data problems, applications, and systems.  It is for those who want to start thinking about how Big Data might be useful in their business or career.  It provides an introduction to one of the most common frameworks, Hadoop, that has made big data analysis easier and more accessible -- increasing the potential for data to transform our world!\\n\\nAt the end of this course, you will be able to:\\n\\n* Describe the Big Data landscape including examples of real world big data problems including the three key sources of Big Data: people, organizations, and sensors. \\n\\n* Explain the Vâ\\x80\\x99s of Big Data (volume, velocity, variety, veracity, valence, and value) and why each impacts data collection, monitoring, storage, analysis and reporting.\\n\\n* Get value out of Big Data by using a 5-step process to structure your analysis. \\n\\n* Identify what are and what are not big data problems and be able to recast big data problems as data science questions.\\n\\n* Provide an explanation of the architectural components and programming models used for scalable big data analysis.\\n\\n* Summarize the features and value of core Hadoop stack components including the YARN resource and job management system, the HDFS file system and the MapReduce programming model.\\n\\n* Install and run a program using Hadoop!\\n\\nThis course is for those new to data science.  No prior programming experience is needed, although the ability to install applications and utilize a virtual machine is necessary to complete the hands-on assignments.  \\n\\nHardware Requirements:\\n(A) Quad Core Processor (VT-x or AMD-V support recommended), 64-bit; (B) 8 GB RAM; (C) 20 GB disk free. How to find your hardware information: (Windows): Open System by clicking the Start button, right-clicking Computer, and then clicking Properties; (Mac): Open Overview by clicking on the Apple menu and clicking â\\x80\\x9cAbout This Mac.â\\x80\\x9d Most computers with 8 GB RAM purchased in the last 3 years will meet the minimum requirements.You will need a high speed internet connection because you will be downloading files up to 4 Gb in size.  \\n\\nSoftware Requirements:\\nThis course relies on several open-source software tools, including Apache Hadoop. All required software can be downloaded and installed free of charge. Software requirements include: Windows 7+, Mac OS X 10.10+, Ubuntu 14.04+ or CentOS 6+ VirtualBox 5+.'"
            ]
          },
          "metadata": {
            "tags": []
          },
          "execution_count": 16
        }
      ]
    },
    {
      "cell_type": "code",
      "metadata": {
        "ExecuteTime": {
          "end_time": "2019-11-19T08:32:32.318231Z",
          "start_time": "2019-11-19T08:32:32.305220Z"
        },
        "id": "EtIpO3kUCdf_",
        "colab_type": "code",
        "colab": {
          "base_uri": "https://localhost:8080/",
          "height": 54
        },
        "outputId": "e6984de4-2d7b-4ef4-fb18-4d2bc5632657"
      },
      "source": [
        "plan2 = soup.find_all('div', {'class':\"content-inner\"})[2].text\n",
        "plan2"
      ],
      "execution_count": 17,
      "outputs": [
        {
          "output_type": "execute_result",
          "data": {
            "text/plain": [
              "'Once youâ\\x80\\x99ve identified a big data issue to analyze, how do you collect, store and organize your data using Big Data solutions?  In this course, you will experience various data genres and management tools appropriate for each.  You will be able to describe the reasons behind the evolving plethora of new big data platforms from the perspective of big data management systems and analytical tools.  Through guided hands-on tutorials, you will become familiar with techniques using real-time and semi-structured data examples.  Systems and tools discussed include: AsterixDB, HP Vertica, Impala, Neo4j, Redis, SparkSQL. This course provides techniques to extract value from existing untapped data sources and discovering new data sources.\\n\\nAt the end of this course, you will be able to:\\n * Recognize different data elements in your own work and in everyday life problems\\n * Explain why your team needs to design a Big Data Infrastructure Plan and Information System Design\\n * Identify the frequent data operations required for various types of data\\n * Select a data model to suit the characteristics of your data \\n * Apply techniques to handle streaming data\\n * Differentiate between a traditional Database Management System and a Big Data Management System\\n * Appreciate why there are so many data management systems\\n * Design a big data information system for an online game company\\n\\nThis course is for those new to data science.  Completion of Intro to Big Data is recommended.  No prior programming experience is needed, although the ability to install applications and utilize a virtual machine is necessary to complete the hands-on assignments.  Refer to the specialization technical requirements for complete hardware and software specifications.\\n\\nHardware Requirements: \\n(A) Quad Core Processor (VT-x or AMD-V support recommended), 64-bit; (B) 8 GB RAM; (C) 20 GB disk free. How to find your hardware information: (Windows): Open System by clicking the Start button, right-clicking Computer, and then clicking Properties; (Mac): Open Overview by clicking on the Apple menu and clicking â\\x80\\x9cAbout This Mac.â\\x80\\x9d Most computers with 8 GB RAM purchased in the last 3 years will meet the minimum requirements.You will need a high speed internet connection because you will be downloading files up to 4 Gb in size. \\n\\nSoftware Requirements: \\nThis course relies on several open-source software tools, including Apache Hadoop. All required software can be downloaded and installed free of charge (except for data charges from your internet provider). Software requirements include: Windows 7+, Mac OS X 10.10+, Ubuntu 14.04+ or CentOS 6+ VirtualBox 5+.'"
            ]
          },
          "metadata": {
            "tags": []
          },
          "execution_count": 17
        }
      ]
    },
    {
      "cell_type": "code",
      "metadata": {
        "ExecuteTime": {
          "end_time": "2019-11-19T08:32:32.331243Z",
          "start_time": "2019-11-19T08:32:32.319232Z"
        },
        "id": "9_A7YPvFCdgB",
        "colab_type": "code",
        "colab": {
          "base_uri": "https://localhost:8080/",
          "height": 54
        },
        "outputId": "99ad4efb-63e6-42b0-aa77-901bbc751f10"
      },
      "source": [
        "plan3 = soup.find_all('div', {'class':\"content-inner\"})[3].text\n",
        "plan3"
      ],
      "execution_count": 18,
      "outputs": [
        {
          "output_type": "execute_result",
          "data": {
            "text/plain": [
              "'At the end of the course, you will be able to:\\n\\n*Retrieve data from example database and big data management systems \\n*Describe the connections between data management operations and the big data processing patterns needed to utilize them in large-scale analytical applications\\n*Identify when a big data problem needs data integration\\n*Execute simple big data integration and processing on Hadoop and Spark platforms\\n\\nThis course is for those new to data science.  Completion of Intro to Big Data is recommended.  No prior programming experience is needed, although the ability to install applications and utilize a virtual machine is necessary to complete the hands-on assignments.  Refer to the specialization technical requirements for complete hardware and software specifications.\\n\\nHardware Requirements: \\n(A) Quad Core Processor (VT-x or AMD-V support recommended), 64-bit; (B) 8 GB RAM; (C) 20 GB disk free. How to find your hardware information: (Windows): Open System by clicking the Start button, right-clicking Computer, and then clicking Properties; (Mac): Open Overview by clicking on the Apple menu and clicking â\\x80\\x9cAbout This Mac.â\\x80\\x9d Most computers with 8 GB RAM purchased in the last 3 years will meet the minimum requirements.You will need a high speed internet connection because you will be downloading files up to 4 Gb in size. \\n\\nSoftware Requirements: \\nThis course relies on several open-source software tools, including Apache Hadoop. All required software can be downloaded and installed free of charge (except for data charges from your internet provider). Software requirements include: Windows 7+, Mac OS X 10.10+, Ubuntu 14.04+ or CentOS 6+ VirtualBox 5+.'"
            ]
          },
          "metadata": {
            "tags": []
          },
          "execution_count": 18
        }
      ]
    },
    {
      "cell_type": "code",
      "metadata": {
        "ExecuteTime": {
          "end_time": "2019-11-19T08:32:32.345256Z",
          "start_time": "2019-11-19T08:32:32.332243Z"
        },
        "id": "Hbf0Y8uuCdgD",
        "colab_type": "code",
        "colab": {
          "base_uri": "https://localhost:8080/",
          "height": 54
        },
        "outputId": "30e1e18c-b874-40c6-9f93-df51d52b3f1b"
      },
      "source": [
        "plan4 = soup.find_all('div', {'class':\"content-inner\"})[4].text\n",
        "plan4"
      ],
      "execution_count": 19,
      "outputs": [
        {
          "output_type": "execute_result",
          "data": {
            "text/plain": [
              "'Want to make sense of the volumes of data you have collected?  Need to incorporate data-driven decisions into your process?  This course provides an overview of machine learning techniques to explore, analyze, and leverage data.  You will be introduced to tools and algorithms you can use to create machine learning models that learn from data, and to scale those models up to big data problems.\\n\\nAt the end of the course, you will be able to:\\nâ\\x80¢\\tDesign an approach to leverage data using the steps in the machine learning process.\\nâ\\x80¢\\tApply machine learning techniques to explore and prepare data for modeling.\\nâ\\x80¢\\tIdentify the type of machine learning problem in order to apply the appropriate set of techniques.\\nâ\\x80¢\\tConstruct models that learn from data using widely available open source tools.\\nâ\\x80¢\\tAnalyze big data problems using scalable machine learning algorithms on Spark.\\n\\nSoftware Requirements: \\nCloudera VM, KNIME, Spark'"
            ]
          },
          "metadata": {
            "tags": []
          },
          "execution_count": 19
        }
      ]
    },
    {
      "cell_type": "markdown",
      "metadata": {
        "ExecuteTime": {
          "end_time": "2019-11-16T17:27:00.525313Z",
          "start_time": "2019-11-16T17:27:00.523311Z"
        },
        "id": "yqy64EUTCdgF",
        "colab_type": "text"
      },
      "source": [
        "# Парсинг всех ссылок"
      ]
    },
    {
      "cell_type": "code",
      "metadata": {
        "ExecuteTime": {
          "end_time": "2019-11-19T19:13:08.109060Z",
          "start_time": "2019-11-19T19:06:43.430468Z"
        },
        "scrolled": true,
        "id": "8BZiQYMtCdgF",
        "colab_type": "code",
        "colab": {
          "base_uri": "https://localhost:8080/",
          "height": 252
        },
        "outputId": "9c97f209-cf2d-49a8-e1a2-bf7b2bdc9480"
      },
      "source": [
        "import time\n",
        "from tqdm import tqdm\n",
        "import requests\n",
        "from itertools import cycle\n",
        "import time\n",
        "\n",
        "proxy_pool = cycle(proxies)\n",
        "\n",
        "parsed ={}\n",
        "proxy = next(proxy_pool)\n",
        "\n",
        "for i in result.keys():\n",
        "    print(i)\n",
        "    # итерация по собранным url\n",
        "    for url in tqdm(result[i]):\n",
        "        # подгрузка след. прокси\n",
        "        proxy = next(proxy_pool)\n",
        "        # эмуляция клиента\n",
        "        header = {\"User-Agent\": \"Mozilla/5.0 (Macintosh; Intel Mac OS X 10.14; rv:66.0) Gecko/20100101 Firefox/66.0\",\n",
        "                  \"Accept\": \"text/html,application/xhtml+xml,application/xml;q=0.9,*/*;q=0.8\",\n",
        "                  \"Accept-Language\": \"en-US,en;q=0.5\",\n",
        "                  \"Accept-Encoding\": \"gzip, deflate\",\n",
        "                  \"DNT\": \"1\",\n",
        "                  \"Connection\": \"close\",\n",
        "                  \"Upgrade-Insecure-Requests\": \"1\"}\n",
        "        url = url.replace(' ', '%20')\n",
        "        # получаем данные\n",
        "        response = requests.get(url,\n",
        "                                headers=header,\n",
        "                                proxies={'http': proxy[0]+':'+proxy[1]})\n",
        "        # парсим супом и выделяем по очереди все, что нас интересует\n",
        "        try:\n",
        "            soup = BeautifulSoup(response.text)\n",
        "        except:\n",
        "            pass\n",
        "        try:\n",
        "            name = soup.find_all('h1')[0].text\n",
        "        except:\n",
        "            name = None\n",
        "        try:\n",
        "            descr = soup.find_all('div', {\"class\",\"content-inner\"})[0].text\n",
        "        except:\n",
        "            descr = None\n",
        "            \n",
        "        try:\n",
        "            plan1= soup.find_all('div', {'class':\"content-inner\"})[1].text\n",
        "        except:\n",
        "            plan1 = None\n",
        "        try:\n",
        "            plan2 = soup.find_all('div', {'class':\"content-inner\"})[2].text\n",
        "        except:\n",
        "            plan2 = None\n",
        "        try:\n",
        "            plan3 = soup.find_all('div', {'class':\"content-inner\"})[3].text\n",
        "        except:\n",
        "            plan3 = None\n",
        "        try:\n",
        "            plan4 = soup.find_all('div', {'class':\"content-inner\"})[4].text\n",
        "        except:\n",
        "            plan4 = None\n",
        "        \n",
        "        # добавляем в итоговую бд (на оснвое словаря)\n",
        "        parsed[name] = {\n",
        "            'url': url,\n",
        "            'сквот': i,\n",
        "            'описание': descr,\n",
        "            'неделя_1': plan1,\n",
        "            'неделя_2': plan2,\n",
        "            'неделя_3': plan3,\n",
        "            'неделя_4': plan4\n",
        "        }"
      ],
      "execution_count": 0,
      "outputs": [
        {
          "output_type": "stream",
          "text": [
            "\r  0%|          | 0/226 [00:00<?, ?it/s]"
          ],
          "name": "stderr"
        },
        {
          "output_type": "stream",
          "text": [
            "big data\n"
          ],
          "name": "stdout"
        },
        {
          "output_type": "stream",
          "text": [
            "100%|██████████| 226/226 [04:32<00:00,  1.11s/it]\n",
            "  0%|          | 0/22 [00:00<?, ?it/s]"
          ],
          "name": "stderr"
        },
        {
          "output_type": "stream",
          "text": [
            "biotechnologies\n"
          ],
          "name": "stdout"
        },
        {
          "output_type": "stream",
          "text": [
            "100%|██████████| 22/22 [00:28<00:00,  1.13s/it]\n",
            "  0%|          | 0/234 [00:00<?, ?it/s]"
          ],
          "name": "stderr"
        },
        {
          "output_type": "stream",
          "text": [
            "cloud computing\n"
          ],
          "name": "stdout"
        },
        {
          "output_type": "stream",
          "text": [
            "100%|██████████| 234/234 [04:24<00:00,  1.15s/it]\n",
            "  0%|          | 0/142 [00:00<?, ?it/s]"
          ],
          "name": "stderr"
        },
        {
          "output_type": "stream",
          "text": [
            "computer games\n"
          ],
          "name": "stdout"
        },
        {
          "output_type": "stream",
          "text": [
            "100%|██████████| 142/142 [02:40<00:00,  1.09s/it]\n",
            "  0%|          | 0/58 [00:00<?, ?it/s]"
          ],
          "name": "stderr"
        },
        {
          "output_type": "stream",
          "text": [
            "cybersecurity\n"
          ],
          "name": "stdout"
        },
        {
          "output_type": "stream",
          "text": [
            "100%|██████████| 58/58 [01:03<00:00,  1.33s/it]\n",
            "  0%|          | 0/213 [00:00<?, ?it/s]"
          ],
          "name": "stderr"
        },
        {
          "output_type": "stream",
          "text": [
            "digital design\n"
          ],
          "name": "stdout"
        },
        {
          "output_type": "stream",
          "text": [
            "100%|██████████| 213/213 [04:14<00:00,  1.22it/s]\n",
            "  0%|          | 0/91 [00:00<?, ?it/s]"
          ],
          "name": "stderr"
        },
        {
          "output_type": "stream",
          "text": [
            "digital marketing\n"
          ],
          "name": "stdout"
        },
        {
          "output_type": "stream",
          "text": [
            " 15%|█▌        | 14/91 [00:15<01:44,  1.36s/it]"
          ],
          "name": "stderr"
        }
      ]
    },
    {
      "cell_type": "code",
      "metadata": {
        "ExecuteTime": {
          "end_time": "2019-11-19T09:29:46.402538Z",
          "start_time": "2019-11-19T09:29:46.399537Z"
        },
        "id": "-rqL-VPrCdgH",
        "colab_type": "code",
        "outputId": "38493d78-f826-4381-c5f3-3fec6a2c2efd",
        "colab": {
          "base_uri": "https://localhost:8080/",
          "height": 162
        }
      },
      "source": [
        "list(parsed.items())[1000]"
      ],
      "execution_count": 1,
      "outputs": [
        {
          "output_type": "error",
          "ename": "NameError",
          "evalue": "ignored",
          "traceback": [
            "\u001b[0;31m---------------------------------------------------------------------------\u001b[0m",
            "\u001b[0;31mNameError\u001b[0m                                 Traceback (most recent call last)",
            "\u001b[0;32m<ipython-input-1-bf65788a0183>\u001b[0m in \u001b[0;36m<module>\u001b[0;34m()\u001b[0m\n\u001b[0;32m----> 1\u001b[0;31m \u001b[0mlist\u001b[0m\u001b[0;34m(\u001b[0m\u001b[0mparsed\u001b[0m\u001b[0;34m.\u001b[0m\u001b[0mitems\u001b[0m\u001b[0;34m(\u001b[0m\u001b[0;34m)\u001b[0m\u001b[0;34m)\u001b[0m\u001b[0;34m[\u001b[0m\u001b[0;36m1000\u001b[0m\u001b[0;34m]\u001b[0m\u001b[0;34m\u001b[0m\u001b[0;34m\u001b[0m\u001b[0m\n\u001b[0m",
            "\u001b[0;31mNameError\u001b[0m: name 'parsed' is not defined"
          ]
        }
      ]
    },
    {
      "cell_type": "code",
      "metadata": {
        "ExecuteTime": {
          "end_time": "2019-11-19T19:17:21.855949Z",
          "start_time": "2019-11-19T19:17:21.852946Z"
        },
        "id": "Y7fooqjQCdgI",
        "colab_type": "code",
        "outputId": "d7a07b78-d6bf-49e7-a784-95c5b0d4b2e1",
        "colab": {}
      },
      "source": [
        "len(list(parsed.items()))"
      ],
      "execution_count": 0,
      "outputs": [
        {
          "output_type": "execute_result",
          "data": {
            "text/plain": [
              "38"
            ]
          },
          "metadata": {
            "tags": []
          },
          "execution_count": 16
        }
      ]
    },
    {
      "cell_type": "code",
      "metadata": {
        "ExecuteTime": {
          "end_time": "2019-11-19T09:29:46.513642Z",
          "start_time": "2019-11-19T09:29:46.407543Z"
        },
        "id": "eK_oBgzjCdgK",
        "colab_type": "code",
        "colab": {}
      },
      "source": [
        "# сбрасываем ее на диск\n",
        "with open('./data/coursera.json', 'w') as json_file:\n",
        "    json.dump(parsed, json_file)"
      ],
      "execution_count": 0,
      "outputs": []
    },
    {
      "cell_type": "code",
      "metadata": {
        "ExecuteTime": {
          "end_time": "2019-11-19T09:29:46.564688Z",
          "start_time": "2019-11-19T09:29:46.514644Z"
        },
        "id": "XO5G5MApCdgL",
        "colab_type": "code",
        "outputId": "4c27a72e-b589-4310-eade-07575d8934b4",
        "colab": {}
      },
      "source": [
        "# тестируем, что все верно открывается\n",
        "with open('./data/coursera.json', 'r', encoding = 'utf-8') as f:\n",
        "    test = json.load(f)\n",
        "type(test)"
      ],
      "execution_count": 0,
      "outputs": [
        {
          "output_type": "execute_result",
          "data": {
            "text/plain": [
              "dict"
            ]
          },
          "metadata": {
            "tags": []
          },
          "execution_count": 26
        }
      ]
    }
  ]
}