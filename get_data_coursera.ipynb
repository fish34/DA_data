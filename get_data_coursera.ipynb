{
  "nbformat": 4,
  "nbformat_minor": 0,
  "metadata": {
    "kernelspec": {
      "display_name": "Python 3",
      "language": "python",
      "name": "python3"
    },
    "language_info": {
      "codemirror_mode": {
        "name": "ipython",
        "version": 3
      },
      "file_extension": ".py",
      "mimetype": "text/x-python",
      "name": "python",
      "nbconvert_exporter": "python",
      "pygments_lexer": "ipython3",
      "version": "3.6.8"
    },
    "latex_envs": {
      "LaTeX_envs_menu_present": true,
      "autoclose": false,
      "autocomplete": true,
      "bibliofile": "biblio.bib",
      "cite_by": "apalike",
      "current_citInitial": 1,
      "eqLabelWithNumbers": true,
      "eqNumInitial": 1,
      "hotkeys": {
        "equation": "Ctrl-E",
        "itemize": "Ctrl-I"
      },
      "labels_anchors": false,
      "latex_user_defs": false,
      "report_style_numbering": false,
      "user_envs_cfg": false
    },
    "toc": {
      "base_numbering": 1,
      "nav_menu": {},
      "number_sections": true,
      "sideBar": true,
      "skip_h1_title": false,
      "title_cell": "Table of Contents",
      "title_sidebar": "Contents",
      "toc_cell": true,
      "toc_position": {
        "height": "calc(100% - 180px)",
        "left": "10px",
        "top": "150px",
        "width": "304.46px"
      },
      "toc_section_display": true,
      "toc_window_display": true
    },
    "colab": {
      "name": "get_data_coursera.ipynb",
      "provenance": [],
      "collapsed_sections": []
    }
  },
  "cells": [
    {
      "cell_type": "code",
      "metadata": {
        "ExecuteTime": {
          "end_time": "2019-11-19T19:01:07.727497Z",
          "start_time": "2019-11-19T19:01:04.603655Z"
        },
        "id": "xwdYgm1SCdfa",
        "colab_type": "code",
        "colab": {}
      },
      "source": [
        "import numpy as np\n",
        "import pandas as pd\n",
        "from bs4 import BeautifulSoup\n",
        "import requests\n",
        "pd.set_option('display.max_colwidth', 100)"
      ],
      "execution_count": 0,
      "outputs": []
    },
    {
      "cell_type": "markdown",
      "metadata": {
        "id": "kBMN4uT1Cdfd",
        "colab_type": "text"
      },
      "source": [
        "# Получаем бесплатные прокси"
      ]
    },
    {
      "cell_type": "code",
      "metadata": {
        "ExecuteTime": {
          "end_time": "2019-11-19T19:01:12.477328Z",
          "start_time": "2019-11-19T19:01:07.728499Z"
        },
        "id": "dFT1tq5rCdfd",
        "colab_type": "code",
        "colab": {}
      },
      "source": [
        "def get_proxy():\n",
        "    proxy_arr = []\n",
        "    for i in range(1, 6):\n",
        "        r = requests.get(f'http://foxtools.ru/Proxy?page={i}')\n",
        "        soup = BeautifulSoup(r.text)\n",
        "#         print(soup.find('table', id='theProxyList').find('tbody').find_all('tr')[0].find_all('td')[1].text)\n",
        "#         print(soup.find('table', id='theProxyList').find('tbody').find_all('tr')[0].find_all('td')[0].text)\n",
        "        \n",
        "        try:\n",
        "            line = soup.find('table', id='theProxyList').find('tbody').find_all('tr')\n",
        "            for tr in line:\n",
        "                td = tr.find_all('td')\n",
        "                ip = td[1].text\n",
        "                port = td[2].text\n",
        "                proxy_arr.append([ip, port])\n",
        "        except:\n",
        "            pass\n",
        "            \n",
        "#     print(proxy_arr)\n",
        "    return proxy_arr\n",
        "\n",
        "def get_another_proxy():\n",
        "    url = 'https://free-proxy-list.net/'\n",
        "    response = requests.get(url)\n",
        "    soup = BeautifulSoup(response.text)\n",
        "    proxies = []\n",
        "    for proxy in soup.find_all('tr'):\n",
        "        try:\n",
        "            proxies.append(\n",
        "                [proxy.find_all('td')[0].text,\n",
        "                 proxy.find_all('td')[1].text])\n",
        "        except:\n",
        "            pass\n",
        "    proxies = proxies[:-29]\n",
        "#     print(proxies)\n",
        "    return proxies\n",
        "\n",
        "\n",
        "proxies = get_proxy() + get_another_proxy()\n"
      ],
      "execution_count": 0,
      "outputs": []
    },
    {
      "cell_type": "markdown",
      "metadata": {
        "id": "L6cA4-9WCdfv",
        "colab_type": "text"
      },
      "source": [
        "# Получаем ссылки на все курсы\n"
      ]
    },
    {
      "cell_type": "code",
      "metadata": {
        "id": "y6z3Y2tMCvEd",
        "colab_type": "code",
        "colab": {}
      },
      "source": [
        "it_directions = ['big data',\n",
        "                'biotechnologies',\n",
        "                'cloud computing',\n",
        "                'computer games',\n",
        "                'cybersecurity',\n",
        "                'digital design',\n",
        "                'digital marketing',\n",
        "                'distributed registries',\n",
        "                'internet of things',\n",
        "                'it products',\n",
        "                'machine learning',\n",
        "                'mobile application',\n",
        "                'quantum technology',\n",
        "                'radio engineering',\n",
        "                'robotics',\n",
        "                'smart manufacturing',\n",
        "                'system administration']\n"
      ],
      "execution_count": 0,
      "outputs": []
    },
    {
      "cell_type": "code",
      "metadata": {
        "ExecuteTime": {
          "end_time": "2019-11-19T19:04:04.125207Z",
          "start_time": "2019-11-19T19:03:02.298022Z"
        },
        "code_folding": [],
        "scrolled": true,
        "id": "JFDZeVDICdfv",
        "colab_type": "code",
        "outputId": "7048440a-6167-4213-818f-0fa48376b893",
        "colab": {
          "base_uri": "https://localhost:8080/",
          "height": 588
        }
      },
      "source": [
        "import time\n",
        "from tqdm import tqdm\n",
        "import requests\n",
        "from itertools import cycle\n",
        "import time\n",
        "import re\n",
        "\n",
        "proxy_pool = cycle(proxies)\n",
        "data_links = {}\n",
        "for direction in it_directions:\n",
        "    #try:\n",
        "        links = []\n",
        "        print('Обрабатываем', direction)\n",
        "\n",
        "        searched_phrase = direction.replace(' ', '%20')\n",
        "\n",
        "        url = f'https://www.coursera.org/search?query={searched_phrase}&'\n",
        "\n",
        "        proxy = proxies[0][0] + ':' + proxies[0][1]\n",
        "\n",
        "        header = {\"User-Agent\": \"Mozilla/5.0 (Macintosh; Intel Mac OS X 10.14; rv:66.0) Gecko/20100101 Firefox/66.0\",\n",
        "                  \"Accept\": \"text/html,application/xhtml+xml,application/xml;q=0.9,*/*;q=0.8\",\n",
        "                  \"Accept-Language\": \"en-US,en;q=0.5\",\n",
        "                  \"Accept-Encoding\": \"gzip, deflate\",\n",
        "                  \"DNT\": \"1\",\n",
        "                  \"Connection\": \"close\",\n",
        "                  \"Upgrade-Insecure-Requests\": \"1\"}\n",
        "\n",
        "        response = requests.get(url,\n",
        "                                headers=header,\n",
        "                                proxies={'http': proxy})\n",
        "\n",
        "        soup = BeautifulSoup(response.text)\n",
        "\n",
        "        page_amm = int(soup.find_all('button', {'id':'pagination_number_box_button'})[-1].text)\n",
        "\n",
        "        for i in tqdm(range(1, page_amm+1)):\n",
        "            proxy = next(proxy_pool)\n",
        "\n",
        "            url = f'https://www.coursera.org/search?query={searched_phrase}&indices%5Bprod_all_products_term_optimization%5D%5Bpage%5D={i}&indices%5Bprod_all_products_term_optimization%5D%5Bconfigure%5D%5BclickAnalytics%5D=true&indices%5Bprod_all_products_term_optimization%5D%5Bconfigure%5D%5BhitsPerPage%5D=10&configure%5BclickAnalytics%5D=true'\n",
        "\n",
        "            response = requests.get(url,\n",
        "                                    headers=header,\n",
        "                                    proxies={'http': proxy[0]+':'+proxy[1]})\n",
        "            soup = BeautifulSoup(response.text)\n",
        "\n",
        "            content = soup.find_all('a', {'data-click-key':'search.search.click.search_card'})\n",
        "            for i in range(len(content)):\n",
        "              ctype=content[i].findChildren('div', {\"class\",lambda x: x and x.startswith(\"productTypePill\")})\n",
        "              links += [['https://www.coursera.org' + content[i]['href'], ctype[0].text]]\n",
        "        data_links[direction] = links\n",
        "    #except:\n",
        "    #    pass\n",
        "#data_links"
      ],
      "execution_count": 4,
      "outputs": [
        {
          "output_type": "stream",
          "text": [
            "Обрабатываем big data\n"
          ],
          "name": "stdout"
        },
        {
          "output_type": "stream",
          "text": [
            "100%|██████████| 23/23 [00:15<00:00,  1.67it/s]\n"
          ],
          "name": "stderr"
        },
        {
          "output_type": "stream",
          "text": [
            "Обрабатываем biotechnologies\n"
          ],
          "name": "stdout"
        },
        {
          "output_type": "stream",
          "text": [
            "100%|██████████| 3/3 [00:02<00:00,  1.50it/s]\n"
          ],
          "name": "stderr"
        },
        {
          "output_type": "stream",
          "text": [
            "Обрабатываем cloud computing\n"
          ],
          "name": "stdout"
        },
        {
          "output_type": "stream",
          "text": [
            "100%|██████████| 24/24 [00:17<00:00,  1.26it/s]\n"
          ],
          "name": "stderr"
        },
        {
          "output_type": "stream",
          "text": [
            "Обрабатываем computer games\n"
          ],
          "name": "stdout"
        },
        {
          "output_type": "stream",
          "text": [
            "100%|██████████| 15/15 [00:13<00:00,  1.47it/s]\n"
          ],
          "name": "stderr"
        },
        {
          "output_type": "stream",
          "text": [
            "Обрабатываем cybersecurity\n"
          ],
          "name": "stdout"
        },
        {
          "output_type": "stream",
          "text": [
            "100%|██████████| 6/6 [00:03<00:00,  2.01it/s]\n"
          ],
          "name": "stderr"
        },
        {
          "output_type": "stream",
          "text": [
            "Обрабатываем digital design\n"
          ],
          "name": "stdout"
        },
        {
          "output_type": "stream",
          "text": [
            "100%|██████████| 22/22 [00:12<00:00,  1.88it/s]\n"
          ],
          "name": "stderr"
        },
        {
          "output_type": "stream",
          "text": [
            "Обрабатываем digital marketing\n"
          ],
          "name": "stdout"
        },
        {
          "output_type": "stream",
          "text": [
            "100%|██████████| 10/10 [00:08<00:00,  1.22it/s]\n"
          ],
          "name": "stderr"
        },
        {
          "output_type": "stream",
          "text": [
            "Обрабатываем distributed registries\n"
          ],
          "name": "stdout"
        },
        {
          "output_type": "stream",
          "text": [
            "100%|██████████| 1/1 [00:00<00:00,  2.37it/s]\n"
          ],
          "name": "stderr"
        },
        {
          "output_type": "stream",
          "text": [
            "Обрабатываем internet of things\n"
          ],
          "name": "stdout"
        },
        {
          "output_type": "stream",
          "text": [
            "100%|██████████| 11/11 [00:08<00:00,  1.54it/s]\n"
          ],
          "name": "stderr"
        },
        {
          "output_type": "stream",
          "text": [
            "Обрабатываем it products\n"
          ],
          "name": "stdout"
        },
        {
          "output_type": "stream",
          "text": [
            "100%|██████████| 50/50 [00:43<00:00,  1.70it/s]\n"
          ],
          "name": "stderr"
        },
        {
          "output_type": "stream",
          "text": [
            "Обрабатываем machine learning\n"
          ],
          "name": "stdout"
        },
        {
          "output_type": "stream",
          "text": [
            "100%|██████████| 32/32 [00:23<00:00,  1.75it/s]\n"
          ],
          "name": "stderr"
        },
        {
          "output_type": "stream",
          "text": [
            "Обрабатываем mobile application\n"
          ],
          "name": "stdout"
        },
        {
          "output_type": "stream",
          "text": [
            "100%|██████████| 10/10 [00:09<00:00,  1.06it/s]\n"
          ],
          "name": "stderr"
        },
        {
          "output_type": "stream",
          "text": [
            "Обрабатываем quantum technology\n"
          ],
          "name": "stdout"
        },
        {
          "output_type": "stream",
          "text": [
            "100%|██████████| 2/2 [00:01<00:00,  1.82it/s]\n"
          ],
          "name": "stderr"
        },
        {
          "output_type": "stream",
          "text": [
            "Обрабатываем radio engineering\n"
          ],
          "name": "stdout"
        },
        {
          "output_type": "stream",
          "text": [
            "100%|██████████| 4/4 [00:01<00:00,  2.52it/s]\n"
          ],
          "name": "stderr"
        },
        {
          "output_type": "stream",
          "text": [
            "Обрабатываем robotics\n"
          ],
          "name": "stdout"
        },
        {
          "output_type": "stream",
          "text": [
            "100%|██████████| 7/7 [00:06<00:00,  1.38it/s]\n"
          ],
          "name": "stderr"
        },
        {
          "output_type": "stream",
          "text": [
            "Обрабатываем smart manufacturing\n"
          ],
          "name": "stdout"
        },
        {
          "output_type": "stream",
          "text": [
            "100%|██████████| 2/2 [00:02<00:00,  1.25s/it]\n"
          ],
          "name": "stderr"
        },
        {
          "output_type": "stream",
          "text": [
            "Обрабатываем system administration\n"
          ],
          "name": "stdout"
        },
        {
          "output_type": "stream",
          "text": [
            "100%|██████████| 8/8 [00:05<00:00,  1.56it/s]\n"
          ],
          "name": "stderr"
        }
      ]
    },
    {
      "cell_type": "code",
      "metadata": {
        "id": "0YchP9VaUugy",
        "colab_type": "code",
        "colab": {}
      },
      "source": [
        "# Сформируем DataFrame, содержащий ссылки\n",
        "df_links=pd.DataFrame()\n",
        "for k,v in data_links.items():\n",
        "  for el in v:\n",
        "    d={'direction':k,'url':el[0],'program':el[1]}\n",
        "    df_links=df_links.append(d,ignore_index=True)\n",
        "\n"
      ],
      "execution_count": 0,
      "outputs": []
    },
    {
      "cell_type": "code",
      "metadata": {
        "id": "yUIpbjCeeF2z",
        "colab_type": "code",
        "outputId": "e08cb295-6020-4f6f-8f34-480ec8b3d7a5",
        "colab": {
          "base_uri": "https://localhost:8080/",
          "height": 974
        }
      },
      "source": [
        "# Отобразим количество ссылок по направлению и типу\n",
        "df_links.groupby(['direction','program']).size()"
      ],
      "execution_count": 6,
      "outputs": [
        {
          "output_type": "execute_result",
          "data": {
            "text/plain": [
              "direction               program                   \n",
              "big data                COURSE                        176\n",
              "                        DEGREE                          2\n",
              "                        MASTERTRACKâ¢ CERTIFICATE      2\n",
              "                        PROFESSIONAL CERTIFICATE        4\n",
              "                        SPECIALIZATION                 42\n",
              "biotechnologies         COURSE                         21\n",
              "                        SPECIALIZATION                  1\n",
              "cloud computing         COURSE                        176\n",
              "                        DEGREE                          4\n",
              "                        PROFESSIONAL CERTIFICATE        4\n",
              "                        SPECIALIZATION                 50\n",
              "computer games          COURSE                        117\n",
              "                        PROFESSIONAL CERTIFICATE        2\n",
              "                        SPECIALIZATION                 23\n",
              "cybersecurity           COURSE                         43\n",
              "                        PROFESSIONAL CERTIFICATE        1\n",
              "                        SPECIALIZATION                 14\n",
              "digital design          COURSE                        172\n",
              "                        DEGREE                          3\n",
              "                        PROFESSIONAL CERTIFICATE        4\n",
              "                        SPECIALIZATION                 34\n",
              "digital marketing       COURSE                         77\n",
              "                        DEGREE                          1\n",
              "                        SPECIALIZATION                 13\n",
              "distributed registries  COURSE                          3\n",
              "internet of things      COURSE                         93\n",
              "                        DEGREE                          2\n",
              "                        SPECIALIZATION                  9\n",
              "it products             COURSE                        445\n",
              "                        PROFESSIONAL CERTIFICATE        2\n",
              "                        SPECIALIZATION                 53\n",
              "machine learning        COURSE                        257\n",
              "                        DEGREE                          8\n",
              "                        MASTERTRACKâ¢ CERTIFICATE      2\n",
              "                        PROFESSIONAL CERTIFICATE        4\n",
              "                        SPECIALIZATION                 46\n",
              "mobile application      COURSE                         76\n",
              "                        DEGREE                          2\n",
              "                        PROFESSIONAL CERTIFICATE        1\n",
              "                        SPECIALIZATION                 20\n",
              "quantum technology      COURSE                         10\n",
              "                        DEGREE                          1\n",
              "                        SPECIALIZATION                  2\n",
              "radio engineering       COURSE                         29\n",
              "                        SPECIALIZATION                  7\n",
              "robotics                COURSE                         56\n",
              "                        PROFESSIONAL CERTIFICATE        2\n",
              "                        SPECIALIZATION                  7\n",
              "smart manufacturing     COURSE                         11\n",
              "                        MASTERTRACKâ¢ CERTIFICATE      1\n",
              "                        SPECIALIZATION                  3\n",
              "system administration   COURSE                         50\n",
              "                        DEGREE                          1\n",
              "                        PROFESSIONAL CERTIFICATE        5\n",
              "                        SPECIALIZATION                 21\n",
              "dtype: int64"
            ]
          },
          "metadata": {
            "tags": []
          },
          "execution_count": 6
        }
      ]
    },
    {
      "cell_type": "code",
      "metadata": {
        "id": "lHmA4Gd4cOEw",
        "colab_type": "code",
        "outputId": "11fad0d1-ea1b-4c76-875c-c5224b33b24b",
        "colab": {
          "base_uri": "https://localhost:8080/",
          "height": 336
        }
      },
      "source": [
        "# Оставим только специализации, сертификацию и курсы\n",
        "types=['SPECIALIZATION','PROFESSIONAL CERTIFICATE','COURSE']\n",
        "mask=df_links.program.isin(types)\n",
        "df_links=df_links[mask]\n",
        "df_links.groupby(['direction']).size()"
      ],
      "execution_count": 7,
      "outputs": [
        {
          "output_type": "execute_result",
          "data": {
            "text/plain": [
              "direction\n",
              "big data                  222\n",
              "biotechnologies            22\n",
              "cloud computing           230\n",
              "computer games            142\n",
              "cybersecurity              58\n",
              "digital design            210\n",
              "digital marketing          90\n",
              "distributed registries      3\n",
              "internet of things        102\n",
              "it products               500\n",
              "machine learning          307\n",
              "mobile application         97\n",
              "quantum technology         12\n",
              "radio engineering          36\n",
              "robotics                   65\n",
              "smart manufacturing        14\n",
              "system administration      76\n",
              "dtype: int64"
            ]
          },
          "metadata": {
            "tags": []
          },
          "execution_count": 7
        }
      ]
    },
    {
      "cell_type": "code",
      "metadata": {
        "id": "AH1HVSyqmiLG",
        "colab_type": "code",
        "colab": {}
      },
      "source": [
        "df_links=df_links.reset_index(drop=True)\n",
        "df_links.index+=1"
      ],
      "execution_count": 0,
      "outputs": []
    },
    {
      "cell_type": "code",
      "metadata": {
        "colab_type": "code",
        "outputId": "02752238-015c-4314-8444-66031e54dc40",
        "id": "_akDwZ2SfXIp",
        "colab": {
          "base_uri": "https://localhost:8080/",
          "height": 402
        }
      },
      "source": [
        "df_links"
      ],
      "execution_count": 98,
      "outputs": [
        {
          "output_type": "execute_result",
          "data": {
            "text/html": [
              "<div>\n",
              "<style scoped>\n",
              "    .dataframe tbody tr th:only-of-type {\n",
              "        vertical-align: middle;\n",
              "    }\n",
              "\n",
              "    .dataframe tbody tr th {\n",
              "        vertical-align: top;\n",
              "    }\n",
              "\n",
              "    .dataframe thead th {\n",
              "        text-align: right;\n",
              "    }\n",
              "</style>\n",
              "<table border=\"1\" class=\"dataframe\">\n",
              "  <thead>\n",
              "    <tr style=\"text-align: right;\">\n",
              "      <th></th>\n",
              "      <th>direction</th>\n",
              "      <th>program</th>\n",
              "      <th>url</th>\n",
              "    </tr>\n",
              "  </thead>\n",
              "  <tbody>\n",
              "    <tr>\n",
              "      <th>1</th>\n",
              "      <td>big data</td>\n",
              "      <td>SPECIALIZATION</td>\n",
              "      <td>https://www.coursera.org/specializations/big-data</td>\n",
              "    </tr>\n",
              "    <tr>\n",
              "      <th>2</th>\n",
              "      <td>big data</td>\n",
              "      <td>SPECIALIZATION</td>\n",
              "      <td>https://www.coursera.org/specializations/big-data-introduccion</td>\n",
              "    </tr>\n",
              "    <tr>\n",
              "      <th>3</th>\n",
              "      <td>big data</td>\n",
              "      <td>SPECIALIZATION</td>\n",
              "      <td>https://www.coursera.org/specializations/big-data-engineering</td>\n",
              "    </tr>\n",
              "    <tr>\n",
              "      <th>4</th>\n",
              "      <td>big data</td>\n",
              "      <td>SPECIALIZATION</td>\n",
              "      <td>https://www.coursera.org/specializations/gcp-data-machine-learning</td>\n",
              "    </tr>\n",
              "    <tr>\n",
              "      <th>5</th>\n",
              "      <td>big data</td>\n",
              "      <td>COURSE</td>\n",
              "      <td>https://www.coursera.org/learn/big-data-introduction</td>\n",
              "    </tr>\n",
              "    <tr>\n",
              "      <th>...</th>\n",
              "      <td>...</td>\n",
              "      <td>...</td>\n",
              "      <td>...</td>\n",
              "    </tr>\n",
              "    <tr>\n",
              "      <th>2182</th>\n",
              "      <td>system administration</td>\n",
              "      <td>PROFESSIONAL CERTIFICATE</td>\n",
              "      <td>https://www.coursera.org/professional-certificates/cloud-engineering-gcp</td>\n",
              "    </tr>\n",
              "    <tr>\n",
              "      <th>2183</th>\n",
              "      <td>system administration</td>\n",
              "      <td>SPECIALIZATION</td>\n",
              "      <td>https://www.coursera.org/specializations/ibm-microservices</td>\n",
              "    </tr>\n",
              "    <tr>\n",
              "      <th>2184</th>\n",
              "      <td>system administration</td>\n",
              "      <td>COURSE</td>\n",
              "      <td>https://www.coursera.org/learn/easing-the-burden-of-obesity-diabetes-cvd</td>\n",
              "    </tr>\n",
              "    <tr>\n",
              "      <th>2185</th>\n",
              "      <td>system administration</td>\n",
              "      <td>COURSE</td>\n",
              "      <td>https://www.coursera.org/learn/science-forensique-tribunal</td>\n",
              "    </tr>\n",
              "    <tr>\n",
              "      <th>2186</th>\n",
              "      <td>system administration</td>\n",
              "      <td>SPECIALIZATION</td>\n",
              "      <td>https://www.coursera.org/specializations/gcp-data-machine-learning-es</td>\n",
              "    </tr>\n",
              "  </tbody>\n",
              "</table>\n",
              "<p>2186 rows × 3 columns</p>\n",
              "</div>"
            ],
            "text/plain": [
              "                  direction  ...                                                                       url\n",
              "1                  big data  ...                         https://www.coursera.org/specializations/big-data\n",
              "2                  big data  ...            https://www.coursera.org/specializations/big-data-introduccion\n",
              "3                  big data  ...             https://www.coursera.org/specializations/big-data-engineering\n",
              "4                  big data  ...        https://www.coursera.org/specializations/gcp-data-machine-learning\n",
              "5                  big data  ...                      https://www.coursera.org/learn/big-data-introduction\n",
              "...                     ...  ...                                                                       ...\n",
              "2182  system administration  ...  https://www.coursera.org/professional-certificates/cloud-engineering-gcp\n",
              "2183  system administration  ...                https://www.coursera.org/specializations/ibm-microservices\n",
              "2184  system administration  ...  https://www.coursera.org/learn/easing-the-burden-of-obesity-diabetes-cvd\n",
              "2185  system administration  ...                https://www.coursera.org/learn/science-forensique-tribunal\n",
              "2186  system administration  ...     https://www.coursera.org/specializations/gcp-data-machine-learning-es\n",
              "\n",
              "[2186 rows x 3 columns]"
            ]
          },
          "metadata": {
            "tags": []
          },
          "execution_count": 98
        }
      ]
    },
    {
      "cell_type": "markdown",
      "metadata": {
        "ExecuteTime": {
          "end_time": "2019-11-16T17:27:00.525313Z",
          "start_time": "2019-11-16T17:27:00.523311Z"
        },
        "id": "yqy64EUTCdgF",
        "colab_type": "text"
      },
      "source": [
        "# Парсинг всех ссылок"
      ]
    },
    {
      "cell_type": "code",
      "metadata": {
        "id": "Lubj-iiOQYqB",
        "colab_type": "code",
        "colab": {}
      },
      "source": [
        "# Функция по обработке ссылок. Обрабатываем курсы и специализации. В качестве контейнера данных - словарь.\n",
        "def parse(links):\n",
        "  \n",
        "  from tqdm import tqdm\n",
        "  import requests\n",
        "  from itertools import cycle\n",
        "  import time\n",
        "  \n",
        "  proxy_pool = cycle(proxies)\n",
        "  proxy = next(proxy_pool)\n",
        "  data={}\n",
        "  lang_ind=3\n",
        "  for direction in links.groupby(['direction']).groups.keys():\n",
        "    mask=links['direction']==direction\n",
        "    current=links[mask]\n",
        "    print(f'\\n{direction}')\n",
        "    for el in tqdm(current[['url','program']].itertuples(index=False),total=current.shape[0]):\n",
        "        url=el[0]\n",
        "        program=el[1]\n",
        "        # подгрузка след. прокси\n",
        "        proxy = next(proxy_pool)\n",
        "        # эмуляция клиента\n",
        "        header = {\"User-Agent\": \"Mozilla/5.0 (Macintosh; Intel Mac OS X 10.14; rv:66.0) Gecko/20100101 Firefox/66.0\",\n",
        "                  \"Accept\": \"text/html,application/xhtml+xml,application/xml;q=0.9,*/*;q=0.8\",\n",
        "                  \"Accept-Language\": \"en-US,en;q=0.5\",\n",
        "                  \"Accept-Encoding\": \"gzip, deflate\",\n",
        "                  \"DNT\": \"1\",\n",
        "                  \"Connection\": \"close\",\n",
        "                  \"Upgrade-Insecure-Requests\": \"1\"}\n",
        "        url = url.replace(' ', '%20')\n",
        "        response = requests.get(url, headers=header, proxies={'http': proxy[0]+':'+proxy[1]})\n",
        "        soup = BeautifulSoup(response.text)\n",
        "        try:\n",
        "            if program=='COURSE': lang_ind=4\n",
        "            language= soup.find_all('h4', {\"class\",\"H4_1k76nzj-o_O-weightBold_uvlhiv-o_O-bold_1byw3y2 m-b-0\"})[lang_ind].text\n",
        "        except:\n",
        "            language = None\n",
        "        if language in ['English']:\n",
        "          # Если это не курс, а специализация\n",
        "          if program!='COURSE':\n",
        "              try:\n",
        "                  title = soup.find_all('h1')[0].text\n",
        "              except:\n",
        "                  title = None\n",
        "              try:\n",
        "                  marks = soup.find('span', {\"data-reactid\":\"167\"}).text.split(\" \")[0]\n",
        "              except:\n",
        "                  marks = None\n",
        "              try:\n",
        "                  star_rating = soup.find('span', {\"data-reactid\":\"165\"}).text\n",
        "              except:\n",
        "                  star_rating = None\n",
        "              try:\n",
        "                  descr = soup.find('div', {\"class\",\"content-inner\"}).text\n",
        "              except:\n",
        "                  descr = None\n",
        "              data[title]={\n",
        "                       'descr':descr,\n",
        "                       'marks':marks,\n",
        "                       'rating':star_rating,\n",
        "                       'url':url,\n",
        "                       'program': program,\n",
        "                       'direction':direction\n",
        "                      }\n",
        "              # Найдем число ссылок на курсы специализации\n",
        "              textnum=soup.find_all('h3', {\"class\",\"H2_1pmnvep-o_O-weightNormal_s9jwp5-o_O-fontHeadline_1uu0gyz max-text-width-xl m-b-1\"})[1].text\n",
        "              nums=int(re.compile(\"\\d\").findall(textnum)[0])\n",
        "              # Ввиду того, что на странице есть скрытые поля, обработаем первые 4 курса\n",
        "              if nums>4: nums=4\n",
        "              for j in range(nums):\n",
        "                try:\n",
        "                  course_link = 'https://www.coursera.org'+soup.find_all('a', {'data-e2e':'course-link'})[j]['href']\n",
        "                except:\n",
        "                  course_link=None\n",
        "                if course_link:\n",
        "                    ctitle,cdata=parse_course(course_link,direction)\n",
        "                    if ctitle not in data.keys():\n",
        "                      data[ctitle]=cdata\n",
        "          else:\n",
        "            ctitle,cdata=parse_course(url,direction)\n",
        "            if ctitle not in data.keys():\n",
        "              data[ctitle]=cdata\n",
        "    #end for\n",
        "  return data\n",
        "\n",
        "def parse_course(course_link,direction):\n",
        "    course_link = course_link.replace(' ', '%20')\n",
        "    header = {\"User-Agent\": \"Mozilla/5.0 (Macintosh; Intel Mac OS X 10.14; rv:66.0) Gecko/20100101 Firefox/66.0\",\n",
        "                  \"Accept\": \"text/html,application/xhtml+xml,application/xml;q=0.9,*/*;q=0.8\",\n",
        "                  \"Accept-Language\": \"en-US,en;q=0.5\",\n",
        "                  \"Accept-Encoding\": \"gzip, deflate\",\n",
        "                  \"DNT\": \"1\",\n",
        "                  \"Connection\": \"close\",\n",
        "                  \"Upgrade-Insecure-Requests\": \"1\"}\n",
        "    proxy = next(proxy_pool)\n",
        "    resp = requests.get(course_link, headers=header, proxies={'http': proxy[0]+':'+proxy[1]})\n",
        "    course_soup = BeautifulSoup(resp.text)\n",
        "    try:\n",
        "      title=course_soup.find('div', {\"data-test\":\"banner-title-container\"}).text\n",
        "    except:\n",
        "      title=None\n",
        "    try:\n",
        "      descr= course_soup.find('div', {'class':\"content-inner\"}).text\n",
        "    except:\n",
        "      descr=None\n",
        "    try:\n",
        "      marks = course_soup.find('div', {\"class\":\"P_gjs17i-o_O-weightNormal_s9jwp5-o_O-fontBody_56f0wi m-r-1s color-white\"}).text.split(\" \")[0]\n",
        "    except:\n",
        "      marks=None\n",
        "    try:\n",
        "      star_rating = course_soup.find('span', {\"data-test\":\"number-star-rating\"}).text\n",
        "    except:\n",
        "      star_rating = None\n",
        "    d={'descr':descr,\n",
        "       'marks':marks,\n",
        "       'rating':star_rating,\n",
        "       'url':course_link,\n",
        "       'program': 'COURSE',\n",
        "       'direction':direction\n",
        "      }\n",
        "    return title,d\n",
        "    \n"
      ],
      "execution_count": 0,
      "outputs": []
    },
    {
      "cell_type": "code",
      "metadata": {
        "ExecuteTime": {
          "end_time": "2019-11-19T19:13:08.109060Z",
          "start_time": "2019-11-19T19:06:43.430468Z"
        },
        "scrolled": true,
        "id": "8BZiQYMtCdgF",
        "colab_type": "code",
        "outputId": "db42dbfa-a17c-47dc-9b18-4cf8c3ffc33d",
        "colab": {
          "base_uri": "https://localhost:8080/",
          "height": 874
        }
      },
      "source": [
        "# Обработаем ссылки\n",
        "courses=parse(df_links)\n",
        "df_courses = pd.DataFrame.from_dict(courses,orient='index')\n",
        "df_courses.reset_index(inplace=True)\n",
        "df_courses.rename(columns={'index':'title'},inplace=True)"
      ],
      "execution_count": 114,
      "outputs": [
        {
          "output_type": "stream",
          "text": [
            "\r  0%|          | 0/222 [00:00<?, ?it/s]"
          ],
          "name": "stderr"
        },
        {
          "output_type": "stream",
          "text": [
            "\n",
            "big data\n"
          ],
          "name": "stdout"
        },
        {
          "output_type": "stream",
          "text": [
            "100%|██████████| 222/222 [06:15<00:00,  1.09s/it]\n",
            "  0%|          | 0/22 [00:00<?, ?it/s]"
          ],
          "name": "stderr"
        },
        {
          "output_type": "stream",
          "text": [
            "\n",
            "biotechnologies\n"
          ],
          "name": "stdout"
        },
        {
          "output_type": "stream",
          "text": [
            "100%|██████████| 22/22 [00:32<00:00,  2.02s/it]\n",
            "  0%|          | 0/230 [00:00<?, ?it/s]"
          ],
          "name": "stderr"
        },
        {
          "output_type": "stream",
          "text": [
            "\n",
            "cloud computing\n"
          ],
          "name": "stdout"
        },
        {
          "output_type": "stream",
          "text": [
            "100%|██████████| 230/230 [06:09<00:00,  1.38s/it]\n",
            "  0%|          | 0/142 [00:00<?, ?it/s]"
          ],
          "name": "stderr"
        },
        {
          "output_type": "stream",
          "text": [
            "\n",
            "computer games\n"
          ],
          "name": "stdout"
        },
        {
          "output_type": "stream",
          "text": [
            "100%|██████████| 142/142 [04:25<00:00,  1.96s/it]\n",
            "  0%|          | 0/58 [00:00<?, ?it/s]"
          ],
          "name": "stderr"
        },
        {
          "output_type": "stream",
          "text": [
            "\n",
            "cybersecurity\n"
          ],
          "name": "stdout"
        },
        {
          "output_type": "stream",
          "text": [
            "100%|██████████| 58/58 [01:48<00:00,  1.48s/it]\n",
            "  0%|          | 0/210 [00:00<?, ?it/s]"
          ],
          "name": "stderr"
        },
        {
          "output_type": "stream",
          "text": [
            "\n",
            "digital design\n"
          ],
          "name": "stdout"
        },
        {
          "output_type": "stream",
          "text": [
            "100%|██████████| 210/210 [06:22<00:00,  1.00it/s]\n",
            "  0%|          | 0/90 [00:00<?, ?it/s]"
          ],
          "name": "stderr"
        },
        {
          "output_type": "stream",
          "text": [
            "\n",
            "digital marketing\n"
          ],
          "name": "stdout"
        },
        {
          "output_type": "stream",
          "text": [
            "100%|██████████| 90/90 [02:36<00:00,  1.48s/it]\n",
            "  0%|          | 0/3 [00:00<?, ?it/s]"
          ],
          "name": "stderr"
        },
        {
          "output_type": "stream",
          "text": [
            "\n",
            "distributed registries\n"
          ],
          "name": "stdout"
        },
        {
          "output_type": "stream",
          "text": [
            "100%|██████████| 3/3 [00:04<00:00,  1.60s/it]\n",
            "  0%|          | 0/102 [00:00<?, ?it/s]"
          ],
          "name": "stderr"
        },
        {
          "output_type": "stream",
          "text": [
            "\n",
            "internet of things\n"
          ],
          "name": "stdout"
        },
        {
          "output_type": "stream",
          "text": [
            "100%|██████████| 102/102 [03:00<00:00,  1.82s/it]\n",
            "  0%|          | 0/500 [00:00<?, ?it/s]"
          ],
          "name": "stderr"
        },
        {
          "output_type": "stream",
          "text": [
            "\n",
            "it products\n"
          ],
          "name": "stdout"
        },
        {
          "output_type": "stream",
          "text": [
            "100%|██████████| 500/500 [14:09<00:00,  1.35s/it]\n",
            "  0%|          | 0/307 [00:00<?, ?it/s]"
          ],
          "name": "stderr"
        },
        {
          "output_type": "stream",
          "text": [
            "\n",
            "machine learning\n"
          ],
          "name": "stdout"
        },
        {
          "output_type": "stream",
          "text": [
            "100%|██████████| 307/307 [08:56<00:00,  2.16s/it]\n",
            "  0%|          | 0/97 [00:00<?, ?it/s]"
          ],
          "name": "stderr"
        },
        {
          "output_type": "stream",
          "text": [
            "\n",
            "mobile application\n"
          ],
          "name": "stdout"
        },
        {
          "output_type": "stream",
          "text": [
            "100%|██████████| 97/97 [02:34<00:00,  1.05it/s]\n",
            "  0%|          | 0/12 [00:00<?, ?it/s]"
          ],
          "name": "stderr"
        },
        {
          "output_type": "stream",
          "text": [
            "\n",
            "quantum technology\n"
          ],
          "name": "stdout"
        },
        {
          "output_type": "stream",
          "text": [
            "100%|██████████| 12/12 [00:21<00:00,  1.91s/it]\n",
            "  0%|          | 0/36 [00:00<?, ?it/s]"
          ],
          "name": "stderr"
        },
        {
          "output_type": "stream",
          "text": [
            "\n",
            "radio engineering\n"
          ],
          "name": "stdout"
        },
        {
          "output_type": "stream",
          "text": [
            "100%|██████████| 36/36 [00:55<00:00,  1.17it/s]\n",
            "  0%|          | 0/65 [00:00<?, ?it/s]"
          ],
          "name": "stderr"
        },
        {
          "output_type": "stream",
          "text": [
            "\n",
            "robotics\n"
          ],
          "name": "stdout"
        },
        {
          "output_type": "stream",
          "text": [
            "100%|██████████| 65/65 [01:49<00:00,  1.56s/it]\n",
            "  0%|          | 0/14 [00:00<?, ?it/s]"
          ],
          "name": "stderr"
        },
        {
          "output_type": "stream",
          "text": [
            "\n",
            "smart manufacturing\n"
          ],
          "name": "stdout"
        },
        {
          "output_type": "stream",
          "text": [
            "100%|██████████| 14/14 [00:26<00:00,  1.68s/it]\n",
            "  0%|          | 0/76 [00:00<?, ?it/s]"
          ],
          "name": "stderr"
        },
        {
          "output_type": "stream",
          "text": [
            "\n",
            "system administration\n"
          ],
          "name": "stdout"
        },
        {
          "output_type": "stream",
          "text": [
            "100%|██████████| 76/76 [02:02<00:00,  1.07s/it]\n"
          ],
          "name": "stderr"
        }
      ]
    },
    {
      "cell_type": "code",
      "metadata": {
        "id": "AygvasYy-JZS",
        "colab_type": "code",
        "colab": {}
      },
      "source": [
        "df_courses.to_csv(\"courses.csv\")"
      ],
      "execution_count": 0,
      "outputs": []
    },
    {
      "cell_type": "code",
      "metadata": {
        "id": "WFYCQ9gJBq2K",
        "colab_type": "code",
        "colab": {
          "base_uri": "https://localhost:8080/",
          "height": 570
        },
        "outputId": "506fcb7e-2d3b-4442-d4ae-a06e10c90dbf"
      },
      "source": [
        "pd.read_csv(\"courses.csv\",index_col=0)"
      ],
      "execution_count": 118,
      "outputs": [
        {
          "output_type": "execute_result",
          "data": {
            "text/html": [
              "<div>\n",
              "<style scoped>\n",
              "    .dataframe tbody tr th:only-of-type {\n",
              "        vertical-align: middle;\n",
              "    }\n",
              "\n",
              "    .dataframe tbody tr th {\n",
              "        vertical-align: top;\n",
              "    }\n",
              "\n",
              "    .dataframe thead th {\n",
              "        text-align: right;\n",
              "    }\n",
              "</style>\n",
              "<table border=\"1\" class=\"dataframe\">\n",
              "  <thead>\n",
              "    <tr style=\"text-align: right;\">\n",
              "      <th></th>\n",
              "      <th>title</th>\n",
              "      <th>descr</th>\n",
              "      <th>marks</th>\n",
              "      <th>rating</th>\n",
              "      <th>url</th>\n",
              "      <th>program</th>\n",
              "      <th>direction</th>\n",
              "    </tr>\n",
              "  </thead>\n",
              "  <tbody>\n",
              "    <tr>\n",
              "      <th>0</th>\n",
              "      <td>Big Data Specialization</td>\n",
              "      <td>Drive better business decisions with an overview of how big data is organized, analyzed, and int...</td>\n",
              "      <td>11,948</td>\n",
              "      <td>4.4</td>\n",
              "      <td>https://www.coursera.org/specializations/big-data</td>\n",
              "      <td>SPECIALIZATION</td>\n",
              "      <td>big data</td>\n",
              "    </tr>\n",
              "    <tr>\n",
              "      <th>1</th>\n",
              "      <td>Introduction to Big Data</td>\n",
              "      <td>Interested in increasing your knowledge of the Big Data landscape?  This course is for those new...</td>\n",
              "      <td>5,613</td>\n",
              "      <td>4.6</td>\n",
              "      <td>https://www.coursera.org/learn/big-data-introduction</td>\n",
              "      <td>COURSE</td>\n",
              "      <td>it products</td>\n",
              "    </tr>\n",
              "    <tr>\n",
              "      <th>2</th>\n",
              "      <td>Big Data Modeling and Management Systems</td>\n",
              "      <td>Once youâve identified a big data issue to analyze, how do you collect, store and organize you...</td>\n",
              "      <td>2,202</td>\n",
              "      <td>4.4</td>\n",
              "      <td>https://www.coursera.org/learn/big-data-management</td>\n",
              "      <td>COURSE</td>\n",
              "      <td>computer games</td>\n",
              "    </tr>\n",
              "    <tr>\n",
              "      <th>3</th>\n",
              "      <td>Big Data Integration and Processing</td>\n",
              "      <td>At the end of the course, you will be able to:\\n\\n*Retrieve data from example database and big d...</td>\n",
              "      <td>1,580</td>\n",
              "      <td>4.4</td>\n",
              "      <td>https://www.coursera.org/learn/big-data-integration-processing</td>\n",
              "      <td>COURSE</td>\n",
              "      <td>cloud computing</td>\n",
              "    </tr>\n",
              "    <tr>\n",
              "      <th>4</th>\n",
              "      <td>Machine Learning With Big Data</td>\n",
              "      <td>Want to make sense of the volumes of data you have collected?  Need to incorporate data-driven d...</td>\n",
              "      <td>1,419</td>\n",
              "      <td>4.6</td>\n",
              "      <td>https://www.coursera.org/learn/big-data-machine-learning</td>\n",
              "      <td>COURSE</td>\n",
              "      <td>machine learning</td>\n",
              "    </tr>\n",
              "    <tr>\n",
              "      <th>...</th>\n",
              "      <td>...</td>\n",
              "      <td>...</td>\n",
              "      <td>...</td>\n",
              "      <td>...</td>\n",
              "      <td>...</td>\n",
              "      <td>...</td>\n",
              "      <td>...</td>\n",
              "    </tr>\n",
              "    <tr>\n",
              "      <th>652</th>\n",
              "      <td>Getting Started on Mainframe with z/OS Commands and Panels</td>\n",
              "      <td>Getting Started with the IBM Mainframe with z/OS Commands and Panels is a mostly hands-on in an ...</td>\n",
              "      <td>62</td>\n",
              "      <td>4.8</td>\n",
              "      <td>https://www.coursera.org/learn/z-commands-and-panels</td>\n",
              "      <td>COURSE</td>\n",
              "      <td>system administration</td>\n",
              "    </tr>\n",
              "    <tr>\n",
              "      <th>653</th>\n",
              "      <td>Basic System Programming on IBM Z</td>\n",
              "      <td>The foundational knowledge for the position of an IBM z/OS System Programmer and System Administ...</td>\n",
              "      <td>48</td>\n",
              "      <td>4.8</td>\n",
              "      <td>https://www.coursera.org/learn/system-programming</td>\n",
              "      <td>COURSE</td>\n",
              "      <td>system administration</td>\n",
              "    </tr>\n",
              "    <tr>\n",
              "      <th>654</th>\n",
              "      <td>Enterprise System Management and Security</td>\n",
              "      <td>The world runs on computers.  Your watch, your TV, your car.  You might be familiar on how to op...</td>\n",
              "      <td>254</td>\n",
              "      <td>4.6</td>\n",
              "      <td>https://www.coursera.org/learn/enterprise-system-management-security</td>\n",
              "      <td>COURSE</td>\n",
              "      <td>system administration</td>\n",
              "    </tr>\n",
              "    <tr>\n",
              "      <th>655</th>\n",
              "      <td>Performance Assessment in the Virtual Classroom</td>\n",
              "      <td>Effective measures of performance and assessment are a crucial component of any virtual program....</td>\n",
              "      <td>82</td>\n",
              "      <td>4.2</td>\n",
              "      <td>https://www.coursera.org/learn/performance-assessment</td>\n",
              "      <td>COURSE</td>\n",
              "      <td>system administration</td>\n",
              "    </tr>\n",
              "    <tr>\n",
              "      <th>656</th>\n",
              "      <td>Data Warehouse Concepts, Design, and Data Integration</td>\n",
              "      <td>This is the second course in the Data Warehousing for Business Intelligence specialization. Idea...</td>\n",
              "      <td>788</td>\n",
              "      <td>4.4</td>\n",
              "      <td>https://www.coursera.org/learn/dwdesign</td>\n",
              "      <td>COURSE</td>\n",
              "      <td>system administration</td>\n",
              "    </tr>\n",
              "  </tbody>\n",
              "</table>\n",
              "<p>657 rows × 7 columns</p>\n",
              "</div>"
            ],
            "text/plain": [
              "                                                          title  ...              direction\n",
              "0                                       Big Data Specialization  ...               big data\n",
              "1                                      Introduction to Big Data  ...            it products\n",
              "2                      Big Data Modeling and Management Systems  ...         computer games\n",
              "3                           Big Data Integration and Processing  ...        cloud computing\n",
              "4                                Machine Learning With Big Data  ...       machine learning\n",
              "..                                                          ...  ...                    ...\n",
              "652  Getting Started on Mainframe with z/OS Commands and Panels  ...  system administration\n",
              "653                           Basic System Programming on IBM Z  ...  system administration\n",
              "654                  Enterprise System Management and Security   ...  system administration\n",
              "655             Performance Assessment in the Virtual Classroom  ...  system administration\n",
              "656       Data Warehouse Concepts, Design, and Data Integration  ...  system administration\n",
              "\n",
              "[657 rows x 7 columns]"
            ]
          },
          "metadata": {
            "tags": []
          },
          "execution_count": 118
        }
      ]
    },
    {
      "cell_type": "code",
      "metadata": {
        "id": "uxPHppj4NUb2",
        "colab_type": "code",
        "colab": {
          "base_uri": "https://localhost:8080/",
          "height": 34
        },
        "outputId": "effee17a-ed4d-4fb7-ca38-58e64913c0c6"
      },
      "source": [
        "!zip courses.zip courses.csv"
      ],
      "execution_count": 119,
      "outputs": [
        {
          "output_type": "stream",
          "text": [
            "  adding: courses.csv (deflated 70%)\n"
          ],
          "name": "stdout"
        }
      ]
    }
  ]
}